{
 "cells": [
  {
   "cell_type": "markdown",
   "metadata": {},
   "source": [
    "# State Machine Cleaned -- with whole Steps"
   ]
  },
  {
   "cell_type": "markdown",
   "metadata": {},
   "source": [
    "## Çift Terimden Tek Terime Geçiş \n"
   ]
  },
  {
   "cell_type": "markdown",
   "metadata": {},
   "source": [
    "### Step 1: Transition Process Control\n",
    "- **State Number**: 2\n",
    "- **State Code**: 10340002\n",
    "- **State Name**: Transition Process from Dual to Single Term Initiated\n",
    "- **Description**: The transition process is controlled here. Five different checks are performed; if all checks are successful, it moves to the next state; otherwise, it goes to the termination state.\n"
   ]
  },
  {
   "cell_type": "markdown",
   "metadata": {},
   "source": [
    "#### 1a. Çalışma Öncesi Script"
   ]
  },
  {
   "cell_type": "code",
   "execution_count": null,
   "metadata": {},
   "outputs": [],
   "source": [
    "def state_handler(machine, state, request_data, context, state_response_of_machine):\n",
    "\n",
    "    return {}"
   ]
  },
  {
   "cell_type": "markdown",
   "metadata": {},
   "source": [
    "#### 1b. İstek Eşleştirme Scripti "
   ]
  },
  {
   "cell_type": "code",
   "execution_count": null,
   "metadata": {},
   "outputs": [],
   "source": [
    "# machine              : Currently executing machine instance\n",
    "# state                : Currently executing state instance\n",
    "# request_data         : Original trigger data\n",
    "# context              : Machine stored context\n",
    "# prev_state_response  : Previous executed state business logic response\n",
    "# return\n",
    "#     json result of business/mapping\n",
    "def state_handler(machine, state, request_data, context, state_responses_of_machine):\n",
    "    # do business/mapping here\n",
    "    return {\"body\": {}, \"params\": {\"assetId\":str(request_data[\"id\"])}}\n"
   ]
  },
  {
   "cell_type": "markdown",
   "metadata": {},
   "source": [
    "#### 1c. State Context Değer Tutma Scripti"
   ]
  },
  {
   "cell_type": "code",
   "execution_count": null,
   "metadata": {},
   "outputs": [],
   "source": [
    "# machine           : Currently executing machine instance\n",
    "# state             : Currently executing state instance\n",
    "# source            : Original trigger data\n",
    "# context           : Machine stored context\n",
    "# prevStateResponse : Previous executed state business logic response\n",
    "# return\n",
    "#     store dictionary\n",
    "def state_handler(machine, state, request_data, context, state_responses_of_machine):\n",
    "    store = {}\n",
    "    \n",
    "    attribute_codes = ['ServicePointId', 'BusinessPartnerId', 'ContractAccountId']\n",
    "    \n",
    "    for code in attribute_codes:\n",
    "        for attr in request_data['attributes']:\n",
    "            if attr['attribute']['attributeCode'] == code:\n",
    "                value = attr['value']\n",
    "                if value is None and attr['values']:\n",
    "                    value = attr['values'][0]['value']  # values içindeki value al\n",
    "                store[code] = value\n",
    "                break\n",
    "        else:\n",
    "            store[code] = None  # Eğer bulunamazsa None döner\n",
    "    return store"
   ]
  },
  {
   "cell_type": "code",
   "execution_count": null,
   "metadata": {},
   "outputs": [],
   "source": [
    "# machine           : Currently executing machine instance\n",
    "# state             : Currently executing state instance\n",
    "# source            : Original trigger data\n",
    "# context           : Machine stored context\n",
    "# prevStateResponse : Previous executed state business logic response\n",
    "# return\n",
    "#     store dictionary\n",
    "def state_handler(machine, state, request_data, context, state_responses_of_machine):\n",
    "    store = {}\n",
    "    \n",
    "    attribute_codes = ['ServicePointId', 'BusinessPartnerId', 'ContractAccountId']\n",
    "    current_state_response = state_responses_of_machine['x']['businessLogic']\n",
    "    for code in attribute_codes:\n",
    "        for attr in current_state_response['attributes']:\n",
    "            if attr['attribute']['attributeCode'] == code:\n",
    "                value = attr['value']\n",
    "                if value is None and attr['values']:\n",
    "                    value = attr['values'][0]['value']  # values içindeki value al\n",
    "                store[code] = value\n",
    "                break\n",
    "        else:\n",
    "            store[code] = None  # Eğer bulunamazsa None döner\n",
    "    return store"
   ]
  },
  {
   "cell_type": "markdown",
   "metadata": {},
   "source": [
    "#### 1d. Çalışma Sonrası Scripti"
   ]
  },
  {
   "cell_type": "code",
   "execution_count": null,
   "metadata": {},
   "outputs": [],
   "source": [
    "\n",
    "# A service will be added here to check the historical data count of TermType. If this stage has been reached, it indicates that the number of Term Changes is less than 3.\n",
    "\n",
    "# machine                 : Currently executing machine instance\n",
    "# state                   : Currently executing state instance\n",
    "# request_data            : Original trigger data\n",
    "# context                 : Machine stored context\n",
    "# prev_state_response     : Previous executed state business logic response\n",
    "# current_state_response  : Currently executed state business logic response\n",
    "# return\n",
    "#     {\"success\": True, \"goto\": \"STATE_CODE\"}\n",
    "#     {\"success\": False, \"error\": {\"code\": \"...\", \"detail\": \"...\"}}\n",
    "\n",
    "def state_handler(machine, state, request_data, context, prev_state_response, current_state_response):\n",
    "    condition = {\n",
    "        'TermType': 'CT',\n",
    "        'ContractCancellationDate': 99991231235959\n",
    "    }\n",
    "\n",
    "    if request_data['assetDefinitionCode'] not in ['ConsumerContract', 'LicensedProducerContract',\n",
    "                                              'UnlicensedProducerContract']:\n",
    "        return {\"success\": True, \"error\": {\"code\": \"END\", \"detail\": \"Tüketici değil iseniz terim değişikliği yapılamaz\"}}\n",
    "\n",
    "    # ConsumerContract için TariffCode kontrolü\n",
    "    if request_data['assetDefinitionCode'] == 'ConsumerContract':\n",
    "        tariff_code = next((attr['value'] for attr in current_state_response['attributes']\n",
    "                            if attr['attribute']['attributeCode'] == 'VoltageType'), None)['values'][0]['value']\n",
    "\n",
    "        # Eğer tariff_code None ise, values'dan al\n",
    "        if tariff_code == 'AG':\n",
    "                return {\"success\": True, \"error\": {\"code\": \"END\", \"detail\": \"AG iseniz terim değişikliği yapılamaz\"}}\n",
    "\n",
    "    # Şimdi kalan kontrollerde sıra\n",
    "    if all(next((attr['value'] if attr['value'] is not None else (attr['values'][0]['value'] if attr['values'] else None)\n",
    "        for attr in request_data['attributes']\n",
    "            if attr['attribute']['attributeCode'] == key), None) == value for key, value in condition.items()):\n",
    "                return {\"success\": True, \"goto\": \"10340003\"}\n",
    "    else:\n",
    "        return {\"success\": True, \"error\": {\"code\": \"END\", \"detail\": \"Terim değişikliği yapmaya uygun değilsiniz\"}}\n"
   ]
  },
  {
   "cell_type": "markdown",
   "metadata": {},
   "source": [
    "## Step 2: Invoice Creation\n",
    "- **State Number**: 3\n",
    "- **State Code**: 10340003\n",
    "- **State Name**: Invoice Creation\n",
    "- **Description**: After the machine is created, it waits for the first invoice to be generated. At this stage, a specific event (from Kafka) is triggered.\n",
    "- **Status**: Pending"
   ]
  },
  {
   "cell_type": "markdown",
   "metadata": {},
   "source": [
    "#### 2a. Çalışma Öncesi Scripti"
   ]
  },
  {
   "cell_type": "markdown",
   "metadata": {},
   "source": [
    "#### 2b. İstek Eşleştirme Scripti "
   ]
  },
  {
   "cell_type": "markdown",
   "metadata": {},
   "source": [
    "#### 2c. State Context Değer Tutma Scripti"
   ]
  },
  {
   "cell_type": "markdown",
   "metadata": {},
   "source": [
    "#### 2d. Çalışma Sonrası Scripti"
   ]
  },
  {
   "cell_type": "markdown",
   "metadata": {},
   "source": [
    "## Step 3: Contract Cancellation\n",
    "- **State Number**: 4\n",
    "- **State Code**: 10340004\n",
    "- **State Name**: Contract Cancellation\n",
    "- **Description**: This state signifies the Cancellation of the existing dual-term contract. Relevant date information is updated here, and then it transitions to the next state."
   ]
  },
  {
   "cell_type": "markdown",
   "metadata": {},
   "source": [
    "#### 3a. Çalışma Öncesi Scripti"
   ]
  },
  {
   "cell_type": "code",
   "execution_count": 19,
   "metadata": {},
   "outputs": [],
   "source": [
    "#Yok"
   ]
  },
  {
   "cell_type": "markdown",
   "metadata": {},
   "source": [
    "#### 3b. İstek Eşleştirme Scripti "
   ]
  },
  {
   "cell_type": "code",
   "execution_count": null,
   "metadata": {},
   "outputs": [],
   "source": [
    "# machine              : Currently executing machine instance\n",
    "# state                : Currently executing state instance\n",
    "# request_data         : Original trigger data\n",
    "# context              : Machine stored context\n",
    "# prev_state_response  : Previous executed state business logic response\n",
    "# return\n",
    "#     json result of business/mapping\n",
    "import json\n",
    "from datetime import datetime\n",
    "\n",
    "def state_handler(machine, state, request_data, context, state_responses_of_machine):\n",
    "    \n",
    "    current_date = datetime.now().strftime('%Y%m%d%H%M%S') \n",
    "    \n",
    "    data = {\n",
    "        \"id\": request_data[\"id\"],\n",
    "        \"attributes\": [\n",
    "            {\n",
    "                \"attribute\": {\n",
    "                    \"attributeCode\": \"ContractCancellationDate\"\n",
    "                },\n",
    "                \"value\":current_date\n",
    "            },\n",
    "            {\n",
    "                \"attribute\": {\n",
    "                    \"attributeCode\": \"ContractCancellationRequestDate\"\n",
    "                },\n",
    "                \"value\": current_date\n",
    "            },\n",
    "            {\n",
    "                \"attribute\": {\n",
    "                    \"attributeCode\": \"ContractCancellationReason\"\n",
    "                },\n",
    "                \"value\": \"SubscriberRequest\"  \n",
    "            },\n",
    "            {\n",
    "                \"attribute\": {\n",
    "                    \"attributeCode\": \"ContractNumber\"\n",
    "                },\n",
    "                \"value\": next((attr['value'] for attr in request_data['attributes'] \n",
    "                               if attr['attribute']['attributeCode'] == \"ContractNumber\"), None)\n",
    "            }\n",
    "        ],\n",
    "        \"authorityGroup\": request_data[\"authorityGroup\"],\n",
    "        \"contractLockID\": \"string\"  \n",
    "    }\n",
    "    \n",
    "    return {\"body\": data}\n"
   ]
  },
  {
   "cell_type": "markdown",
   "metadata": {},
   "source": [
    "#### 3c. State Context Değer Tutma Scripti"
   ]
  },
  {
   "cell_type": "code",
   "execution_count": 20,
   "metadata": {},
   "outputs": [],
   "source": [
    "## Yok"
   ]
  },
  {
   "cell_type": "markdown",
   "metadata": {},
   "source": [
    "#### 3d. Çalışma Sonrası Scripti"
   ]
  },
  {
   "cell_type": "code",
   "execution_count": null,
   "metadata": {},
   "outputs": [],
   "source": [
    "# machine                 : Currently executing machine instance\n",
    "# state                   : Currently executing state instance\n",
    "# request_data            : Original trigger data\n",
    "# context                 : Machine stored context\n",
    "# prev_state_response     : Previous executed state business logic response\n",
    "# current_state_response  : Currently executed state business logic response\n",
    "# return\n",
    "#     {\"success\": True, \"goto\": \"STATE_CODE\"}\n",
    "#     {\"success\": False, \"error\": {\"code\": \"...\", \"detail\": \"...\"}}\n",
    "def state_handler(machine, state, request_data, context, state_responses_of_machine):\n",
    "    # do workflow here\n",
    "    return {\"success\": True, \"goto\": \"10340005\"}\n"
   ]
  },
  {
   "cell_type": "markdown",
   "metadata": {},
   "source": [
    "\n",
    "## Step 4: Closure Accrual Creation\n",
    "- **State Number**: 5\n",
    "- **State Code**: 10340005\n",
    "- **State Name**: Closure Accrual Creation\n",
    "- **Description**: A closure invoice is created for the terminated contract. Here, the invoice creation dates are processed.\n",
    "- **Status**: Pending"
   ]
  },
  {
   "cell_type": "markdown",
   "metadata": {},
   "source": [
    "#### 4a. Çalışma Öncesi Scripti"
   ]
  },
  {
   "cell_type": "code",
   "execution_count": 21,
   "metadata": {},
   "outputs": [],
   "source": [
    "# Yok"
   ]
  },
  {
   "cell_type": "markdown",
   "metadata": {},
   "source": [
    "#### 4b. İstek Eşleştirme Scripti "
   ]
  },
  {
   "cell_type": "code",
   "execution_count": 22,
   "metadata": {},
   "outputs": [],
   "source": [
    "#yok"
   ]
  },
  {
   "cell_type": "markdown",
   "metadata": {},
   "source": [
    "#### 4c. State Context Değer Tutma Scripti"
   ]
  },
  {
   "cell_type": "code",
   "execution_count": 23,
   "metadata": {},
   "outputs": [],
   "source": [
    "#Yok"
   ]
  },
  {
   "cell_type": "markdown",
   "metadata": {},
   "source": [
    "#### 4d. Çalışma Sonrası Scripti"
   ]
  },
  {
   "cell_type": "code",
   "execution_count": 24,
   "metadata": {},
   "outputs": [],
   "source": [
    "# machine                 : Currently executing machine instance\n",
    "# state                   : Currently executing state instance\n",
    "# request_data            : Original trigger data\n",
    "# context                 : Machine stored context\n",
    "# prev_state_response     : Previous executed state business logic response\n",
    "# current_state_response  : Currently executed state business logic response\n",
    "# return\n",
    "#     {\"success\": True, \"goto\": \"STATE_CODE\"}\n",
    "#     {\"success\": False, \"error\": {\"code\": \"...\", \"detail\": \"...\"}}\n",
    "def state_handler(machine, state, request_data, context, prev_state_response, current_state_response):\n",
    "    # do workflow here\n",
    "    return {\"success\": True, \"goto\": \"10340006-1\"}\n"
   ]
  },
  {
   "cell_type": "markdown",
   "metadata": {},
   "source": [
    "#### 4e. İş Mantığı"
   ]
  },
  {
   "cell_type": "code",
   "execution_count": 25,
   "metadata": {},
   "outputs": [
    {
     "data": {
      "text/plain": [
       "'http://thor-stage.edas1.com/host/v1//accruals/calculate'"
      ]
     },
     "execution_count": 25,
     "metadata": {},
     "output_type": "execute_result"
    }
   ],
   "source": [
    "\"\"\"http://thor-stage.edas1.com/host/v1//accruals/calculate\"\"\""
   ]
  },
  {
   "cell_type": "markdown",
   "metadata": {},
   "source": [
    "## Step 5: Data Preparation for New Account\n",
    "- **State Number**: -\n",
    "- **State Code**: -\n",
    "- **State Name**: Data Preparation for New Account\n",
    "- **Description**: This process involves preparing the necessary data for creating a new account. Relevant attributes are queried.\n",
    "- **Status**: Pending"
   ]
  },
  {
   "cell_type": "markdown",
   "metadata": {},
   "source": [
    "#### 5a. Çalışma Öncesi Scripti"
   ]
  },
  {
   "cell_type": "markdown",
   "metadata": {},
   "source": [
    "#### 5b. İstek Eşleştirme Scripti "
   ]
  },
  {
   "cell_type": "code",
   "execution_count": null,
   "metadata": {},
   "outputs": [],
   "source": [
    "# machine                     : Currently executing machine instance\n",
    "# state                       : Currently executing state instance\n",
    "# request_data                : Original trigger data\n",
    "# context                     : Machine stored context\n",
    "# state_responses_of_machine  : State responses of Machine <StateCode, {prev, businessLogic, webhook}>\n",
    "# return\n",
    "#     {\"success\": True, \"goto\": \"STATE_CODE\"}\n",
    "#     {\"success\": False, \"error\": {\"code\": \"...\", \"detail\": \"...\"}}\n",
    "def state_handler(machine, state, request_data, context, state_responses_of_machine):  \n",
    "    contractAccountId = next((attr for attr in request_data['attributes'] if attr['attribute']['attributeCode']=='ContractAccountId'),None)['value']\n",
    "\n",
    "    return {\"params\": {\"assetId\":contractAccountId}}"
   ]
  },
  {
   "cell_type": "markdown",
   "metadata": {},
   "source": [
    "#### 5c. State Context Değer Tutma Scripti"
   ]
  },
  {
   "cell_type": "code",
   "execution_count": null,
   "metadata": {},
   "outputs": [],
   "source": [
    "# machine           : Currently executing machine instance\n",
    "# state             : Currently executing state instance\n",
    "# source            : Original trigger data\n",
    "# context           : Machine stored context\n",
    "# prevStateResponse : Previous executed state business logic response\n",
    "# return\n",
    "#     store dictionary  \n",
    "def state_handler(machine, state, request_data, context, state_response_of_machine):\n",
    "    store = {'accountInfo' : state_response_of_machine['10350006-1']['businessLogicResponse']}\n",
    "    return store"
   ]
  },
  {
   "cell_type": "markdown",
   "metadata": {},
   "source": [
    "#### 5d. Çalışma Sonrası Scripti"
   ]
  },
  {
   "cell_type": "code",
   "execution_count": null,
   "metadata": {},
   "outputs": [],
   "source": [
    "# machine                 : Currently executing machine instance\n",
    "# state                   : Currently executing state instance\n",
    "# request_data            : Original trigger data\n",
    "# context                 : Machine stored context\n",
    "# prev_state_response     : Previous executed state business logic response\n",
    "# current_state_response  : Currently executed state business logic response\n",
    "# return\n",
    "#     {\"success\": True, \"goto\": \"STATE_CODE\"}\n",
    "#     {\"success\": False, \"error\": {\"code\": \"...\", \"detail\": \"...\"}}\n",
    "def state_handler(machine, state, request_data, context, state_responses_of_machine):\n",
    "    # do workflow here\n",
    "    return {\"success\": True, \"goto\": \"10340006\"}\n"
   ]
  },
  {
   "cell_type": "markdown",
   "metadata": {},
   "source": [
    "#### 5e. İş Mantığı"
   ]
  },
  {
   "cell_type": "code",
   "execution_count": 31,
   "metadata": {},
   "outputs": [
    {
     "data": {
      "text/plain": [
       "'http://thor-stage.edas1.com/host/v1//md/search/{assetId}'"
      ]
     },
     "execution_count": 31,
     "metadata": {},
     "output_type": "execute_result"
    }
   ],
   "source": [
    "\"\"\"http://thor-stage.edas1.com/host/v1//md/search/{assetId}\"\"\"##URL is  not defined"
   ]
  },
  {
   "cell_type": "markdown",
   "metadata": {},
   "source": [
    "## Step 6: Create New Account\n",
    "- **State Number**: 6\n",
    "- **State Code**: 10340006\n",
    "- **State Name**: Create New Account\n",
    "- **Description**: An account is created to link with the new contract. New account definitions are made using existing attributes.\n",
    "- **Status** : Pending"
   ]
  },
  {
   "cell_type": "markdown",
   "metadata": {},
   "source": [
    "#### 6a. Çalışma Öncesi Scripti"
   ]
  },
  {
   "cell_type": "code",
   "execution_count": 32,
   "metadata": {},
   "outputs": [],
   "source": [
    "#Yok"
   ]
  },
  {
   "cell_type": "markdown",
   "metadata": {},
   "source": [
    "#### 6b. İstek Eşleştirme Scripti "
   ]
  },
  {
   "cell_type": "code",
   "execution_count": null,
   "metadata": {},
   "outputs": [],
   "source": [
    "from datetime import datetime\n",
    "import json\n",
    "def state_handler(machine, state, request_data, context, state_responses_of_machine):\n",
    "    # Not recursive\n",
    "\n",
    "    deletelist = ['AssetIdentifier']\n",
    "\n",
    "    current_date = datetime.now().strftime('%Y%m%d%H%M%S') \n",
    " \n",
    "    copied_json = {}\n",
    "    stack = [(copied_json, state_responses_of_machine['10340006-1']['businessLogicResponse'])]\n",
    " \n",
    "    # Copy context to copied_json without id\n",
    "    while stack:\n",
    "        current_copied, current_original = stack.pop()\n",
    " \n",
    "        for key, value in current_original.items():\n",
    "            if key != 'id':\n",
    "                if isinstance(value, list):\n",
    "                    new_list = []\n",
    "                    for item in value:\n",
    "                        if isinstance(item, dict):\n",
    "                            new_item = {}\n",
    "                            new_list.append(new_item)\n",
    "                            stack.append((new_item, item))\n",
    "                        else:\n",
    "                            new_list.append(item)\n",
    "                    current_copied[key] = new_list\n",
    "                elif isinstance(value, dict):\n",
    "                    new_dict = {}\n",
    "                    current_copied[key] = new_dict\n",
    "                    stack.append((new_dict, value))\n",
    "                else:\n",
    "                    current_copied[key] = value\n",
    " \n",
    "    # Set dates for all values in copied_json\n",
    "    for key, value in copied_json.items():\n",
    "        if isinstance(value, list):\n",
    "            for item in value:\n",
    "                if isinstance(item, dict):\n",
    "                    if item.get('value') is None and 'values' in item and item['values']:\n",
    "                        item['values'][0]['startDate'] = current_date\n",
    "                        item['values'][0]['endDate'] = 99991231235959\n",
    "                    elif item.get('value') is not None:\n",
    "                        item['startDate'] = current_date\n",
    "                        item['endDate'] = 99991231235959\n",
    "        elif isinstance(value, dict):\n",
    "            if value.get('value') is None and 'values' in value and value['values']:\n",
    "                value['values'][0]['startDate'] = current_date\n",
    "                value['values'][0]['endDate'] = 99991231235959\n",
    "            elif value.get('value') is not None:\n",
    "                value['startDate'] = current_date\n",
    "                value['endDate'] = 99991231235959\n",
    " \n",
    "   \n",
    "    for attr in copied_json['attributes']:\n",
    "        if attr['attribute']['attributeCode']=='ExpiryDate':\n",
    "            attr['value'] = current_date\n",
    "\n",
    "    copied_json['attributes'] = [attr for attr in copied_json['attributes'] if attr['attribute']['attributeCode'] not in deletelist]\n",
    "\n",
    "   \n",
    "                   \n",
    " \n",
    "    return {\"body\":copied_json}  \n",
    " \n",
    "\n",
    "\n",
    "    \n",
    "    \n"
   ]
  },
  {
   "cell_type": "markdown",
   "metadata": {},
   "source": [
    "#### 6c. State Context Değer Tutma Scripti"
   ]
  },
  {
   "cell_type": "code",
   "execution_count": null,
   "metadata": {},
   "outputs": [],
   "source": [
    "# machine           : Currently executing machine instance\n",
    "# state             : Currently executing state instance\n",
    "# source            : Original trigger data\n",
    "# context           : Machine stored context\n",
    "# prevStateResponse : Previous executed state business logic response\n",
    "# return\n",
    "#     store dictionary  \n",
    "def state_handler(machine, state, request_data, context, state_responses_of_machine):\n",
    "    store = {}\n",
    "    store ['NewAccountId'] = state_responses_of_machine['10340006']['businessLogicResponse']['id'] \n",
    "    return store\n"
   ]
  },
  {
   "cell_type": "markdown",
   "metadata": {},
   "source": [
    "#### 6d. Çalışma Sonrası Scripti"
   ]
  },
  {
   "cell_type": "code",
   "execution_count": null,
   "metadata": {},
   "outputs": [],
   "source": [
    "# machine                 : Currently executing machine instance\n",
    "# state                   : Currently executing state instance\n",
    "# request_data            : Original trigger data\n",
    "# context                 : Machine stored context\n",
    "# prev_state_response     : Previous executed state business logic response\n",
    "# current_state_response  : Currently executed state business logic response\n",
    "# return\n",
    "#     {\"success\": True, \"goto\": \"STATE_CODE\"}\n",
    "#     {\"success\": False, \"error\": {\"code\": \"...\", \"detail\": \"...\"}}\n",
    "def state_handler(machine, state, request_data, context, state_responses_of_machine):\n",
    "    # do workflow here\n",
    "    return {\"success\": True, \"goto\": \"10340007\"}\n"
   ]
  },
  {
   "cell_type": "markdown",
   "metadata": {},
   "source": [
    "#### 6e. İş Mantığı"
   ]
  },
  {
   "cell_type": "code",
   "execution_count": 37,
   "metadata": {},
   "outputs": [
    {
     "data": {
      "text/plain": [
       "'http://thor-stage.edas1.com/host/v1//account/create'"
      ]
     },
     "execution_count": 37,
     "metadata": {},
     "output_type": "execute_result"
    }
   ],
   "source": [
    "\"\"\"http://thor-stage.edas1.com/host/v1//account/create\"\"\"\n"
   ]
  },
  {
   "cell_type": "markdown",
   "metadata": {},
   "source": [
    "## Step 7: Creation of New Contract\n",
    "- **State Number**: 7\n",
    "- **State Code**: 10340007\n",
    "- **State Name**: Creation of New Contract\n",
    "- **Description**: A new contract is created with the new term information. The same attributes as the existing contract are used to create a single-term contract."
   ]
  },
  {
   "cell_type": "markdown",
   "metadata": {},
   "source": [
    "#### 7a. Çalışma Öncesi Scripti"
   ]
  },
  {
   "cell_type": "code",
   "execution_count": 38,
   "metadata": {},
   "outputs": [],
   "source": [
    "#Yok"
   ]
  },
  {
   "cell_type": "markdown",
   "metadata": {},
   "source": [
    "#### 7b. İstek Eşleştirme Scripti"
   ]
  },
  {
   "cell_type": "code",
   "execution_count": null,
   "metadata": {},
   "outputs": [],
   "source": [
    "# machine              : Currently executing machine instance\n",
    "# state                : Currently executing state instance\n",
    "# request_data         : Original trigger data\n",
    "# context              : Machine stored context\n",
    "# prev_state_response  : Previous executed state business logic response\n",
    "# return\n",
    "#     json result of business/mapping\n",
    "\n",
    "import json\n",
    "\n",
    "def state_handler(machine, state, request_data, context, prev_state_response, current_state_response) -> json:\n",
    "    attribute_codes = ['ServicePointId', 'BusinessPartnerId', 'AccountId']\n",
    "    json_parts = []\n",
    "\n",
    "    for code in attribute_codes:\n",
    "        value = None  # Default value\n",
    "        \n",
    "        for attr in request_data['attributes']:\n",
    "            if attr['attribute']['attributeCode'] == code:\n",
    "                value = attr['value']\n",
    "                if value is None and attr['values']:\n",
    "                    value = attr['values'][0]['value']  # Get value from values if available\n",
    "                break\n",
    "        \n",
    "        json_parts.append(f'\"{code}\": {json.dumps(value)}')  # Create JSON key-value pairs\n",
    "    \n",
    "    json_output = '{' + ', '.join(json_parts) + '}'\n",
    "    return json_output  # Return the JSON \n",
    "\n"
   ]
  },
  {
   "cell_type": "markdown",
   "metadata": {},
   "source": [
    "##### 7b. İstek Eşleştirme Scripti- Olması gereken(2)"
   ]
  },
  {
   "cell_type": "code",
   "execution_count": null,
   "metadata": {},
   "outputs": [],
   "source": [
    "from datetime import datetime\n",
    "import json\n",
    "def state_handler(machine, state, request_data, context, state_responses_of_machine):\n",
    "    # Not recursive \n",
    "    current_date = datetime.now().strftime('%Y%m%d%H%M%S') \n",
    "    \n",
    "    \n",
    "    changes_dict = {'TermType': 'TT',\n",
    "                    'ContractAccountId': context['accountInfo']['id']\n",
    "                    }\n",
    "    \n",
    "    copied_json = {}\n",
    "    stack = [(copied_json, request_data)]\n",
    "\n",
    "    # Copy context to copied_json without id\n",
    "    while stack:\n",
    "        current_copied, current_original = stack.pop()\n",
    "\n",
    "        for key, value in current_original.items():\n",
    "            if key != 'id':\n",
    "                if isinstance(value, list):\n",
    "                    new_list = []\n",
    "                    for item in value:\n",
    "                        if isinstance(item, dict):\n",
    "                            new_item = {}\n",
    "                            new_list.append(new_item)\n",
    "                            stack.append((new_item, item))\n",
    "                        else:\n",
    "                            new_list.append(item)\n",
    "                    current_copied[key] = new_list\n",
    "                elif isinstance(value, dict):\n",
    "                    new_dict = {}\n",
    "                    current_copied[key] = new_dict\n",
    "                    stack.append((new_dict, value))\n",
    "                else:\n",
    "                    current_copied[key] = value\n",
    "\n",
    "    # Set dates for all values in copied_json\n",
    "    for key, value in copied_json.items():\n",
    "        if isinstance(value, list):\n",
    "            for item in value:\n",
    "                if isinstance(item, dict):\n",
    "                    if item.get('value') is None and 'values' in item and item['values']:\n",
    "                        item['values'][0]['startDate'] = current_date\n",
    "                        item['values'][0]['endDate'] = 99991231235959\n",
    "                    elif item.get('value') is not None:\n",
    "                        item['startDate'] = current_date\n",
    "                        item['endDate'] = 99991231235959\n",
    "        elif isinstance(value, dict):\n",
    "            if value.get('value') is None and 'values' in value and value['values']:\n",
    "                value['values'][0]['startDate'] = current_date\n",
    "                value['values'][0]['endDate'] = 99991231235959\n",
    "            elif value.get('value') is not None:\n",
    "                value['startDate'] = current_date\n",
    "                value['endDate'] = 99991231235959\n",
    "\n",
    "    # Update attribute values in context according to the dict above\n",
    "    for code, new_value in changes_dict.items():\n",
    "        for attr in copied_json.get('attributes', []):\n",
    "            if attr['attribute']['attributeCode'] == code:\n",
    "                if attr['value'] is None:\n",
    "                    attr['values'][0]['value'] = new_value\n",
    "                    attr['values'][0]['valueDesc'] = None\n",
    "                else:\n",
    "                    attr['valueDesc'] = None\n",
    "                    attr['value'] = new_value\n",
    "\n",
    "    return {\"body\":copied_json}  "
   ]
  },
  {
   "cell_type": "markdown",
   "metadata": {},
   "source": [
    "#### 7c. State Context Değer Tutma Scripti"
   ]
  },
  {
   "cell_type": "code",
   "execution_count": 39,
   "metadata": {},
   "outputs": [],
   "source": [
    "# machine           : Currently executing machine instance\n",
    "# state             : Currently executing state instance\n",
    "# source            : Original trigger data\n",
    "# context           : Machine stored context\n",
    "# prevStateResponse : Previous executed state business logic response\n",
    "# return\n",
    "#     store dictionary  \n",
    "def state_handler(machine, state, request_data, context, prev_state_response):\n",
    "    store = {}\n",
    "    \n",
    "    attribute_codes = ['ContractId']\n",
    "    \n",
    "    for code in attribute_codes:\n",
    "        for attr in request_data['attributes']:\n",
    "            if attr['attribute']['attributeCode'] == code:\n",
    "                value = attr['value']\n",
    "                if value is None and attr['values']:\n",
    "                    value = attr['values'][0]['value']  # values içindeki value al\n",
    "                store[code] = value\n",
    "                break\n",
    "        else:\n",
    "            store[code] = None  # Eğer bulunamazsa None döner\n",
    "    return store"
   ]
  },
  {
   "cell_type": "markdown",
   "metadata": {},
   "source": [
    "##### 7d. Çalışma Sonrası Scripti"
   ]
  },
  {
   "cell_type": "code",
   "execution_count": 42,
   "metadata": {},
   "outputs": [],
   "source": [
    "# machine                 : Currently executing machine instance\n",
    "# state                   : Currently executing state instance\n",
    "# request_data            : Original trigger data\n",
    "# context                 : Machine stored context\n",
    "# prev_state_response     : Previous executed state business logic response\n",
    "# current_state_response  : Currently executed state business logic response\n",
    "# return\n",
    "#     {\"success\": True, \"goto\": \"STATE_CODE\"}\n",
    "#     {\"success\": False, \"error\": {\"code\": \"...\", \"detail\": \"...\"}}\n",
    "def state_handler(machine, state, request_data, context, prev_state_response, current_state_response):\n",
    "    # do workflow here\n",
    "    return {\"success\": True, \"goto\": \"END\"}\n"
   ]
  },
  {
   "cell_type": "markdown",
   "metadata": {},
   "source": [
    "#### 7e. İş Mantığı"
   ]
  },
  {
   "cell_type": "code",
   "execution_count": 41,
   "metadata": {},
   "outputs": [
    {
     "data": {
      "text/plain": [
       "'http://thor-stage.edas1.com/host/v1//contract/create'"
      ]
     },
     "execution_count": 41,
     "metadata": {},
     "output_type": "execute_result"
    }
   ],
   "source": [
    "\"\"\"http://thor-stage.edas1.com/host/v1//contract/create\"\"\""
   ]
  },
  {
   "cell_type": "markdown",
   "metadata": {},
   "source": []
  }
 ],
 "metadata": {
  "kernelspec": {
   "display_name": "Python 3",
   "language": "python",
   "name": "python3"
  },
  "language_info": {
   "codemirror_mode": {
    "name": "ipython",
    "version": 3
   },
   "file_extension": ".py",
   "mimetype": "text/x-python",
   "name": "python",
   "nbconvert_exporter": "python",
   "pygments_lexer": "ipython3",
   "version": "3.12.3"
  }
 },
 "nbformat": 4,
 "nbformat_minor": 2
}
