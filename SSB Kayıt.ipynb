{
 "cells": [
  {
   "cell_type": "markdown",
   "metadata": {},
   "source": [
    "# SSB Kayıt "
   ]
  },
  {
   "cell_type": "markdown",
   "metadata": {},
   "source": [
    "\n",
    "## Step 1: Waiting for the Next Period Reading\n",
    "- **State Number**: 1\n",
    "- **State Code**: -\n",
    "- **State Name**: Waiting for the Next Period Reading\n",
    "- **Description**: This step waits for the periodic reading after the SSB registration date to trigger the creation of accrual. The system listens for an event (`thor-billing-accrual-created`) to confirm the accrual data and proceeds based on this information.\n",
    "- **Status**: Pending"
   ]
  },
  {
   "cell_type": "markdown",
   "metadata": {},
   "source": [
    "#### 1A - Çalışma öncesi Script"
   ]
  },
  {
   "cell_type": "code",
   "execution_count": null,
   "metadata": {},
   "outputs": [],
   "source": [
    "# machine                     : Currently executing machine instance\n",
    "# state                       : Currently executing state instance\n",
    "# request_data                : Original trigger data\n",
    "# context                     : Machine stored context (1. Muhatap(ID), 2. Tesisat(ID), 3. Sözleşme)\n",
    "# state_responses_of_machine  : State responses of Machine <StateCode, {prev, current, webhook}>\n",
    "# return\n",
    "#     json input of business logic service\n",
    "import json\n",
    "from datetime import datetime\n",
    "def state_handler(machine, state, request_data, context, state_response_of_machine):\n",
    "    cancelDate = next((attr for attr in request_data['attributes'] if attr['attribute']['attributeCode'] == 'ContractCancellationDate'), None)['value']\n",
    "    if cancelDate != 99991231595959:\n",
    "        return {\"success\": True, \"error\": {\"code\": \"END\", \"detail\": \"İptal Tarihi\"}}\n"
   ]
  },
  {
   "cell_type": "markdown",
   "metadata": {},
   "source": [
    "#### 1B -  İstek Eşleştirme Scripti"
   ]
  },
  {
   "cell_type": "code",
   "execution_count": null,
   "metadata": {},
   "outputs": [],
   "source": [
    "#Null"
   ]
  },
  {
   "cell_type": "markdown",
   "metadata": {},
   "source": [
    "#### 1C - State Context Değer Tutma "
   ]
  },
  {
   "cell_type": "code",
   "execution_count": 9,
   "metadata": {},
   "outputs": [],
   "source": [
    "# machine                     : Currently executing machine instance\n",
    "# state                       : Currently executing state instance\n",
    "# request_data                : Original trigger data\n",
    "# context                     : Machine stored context (1. Muhatap(ID), 2. Tesisat(ID), 3. Sözleşme)\n",
    "# state_responses_of_machine  : State responses of Machine <StateCode, {prev, current, webhook}>\n",
    "# return\n",
    "#     json input of business logic service\n",
    "import json\n",
    "from datetime import datetime\n",
    "def state_handler(machine, state, request_data, context, state_response_of_machine):\n",
    "    current_state_response = state_response_of_machine\n",
    "    store = {'AccrualDate':current_state_response['AccrualDate'],\n",
    "             'Endeks3':current_state_response['Endeks3'],\n",
    "             'Endeks2':current_state_response['Endeks2'],\n",
    "             'Endeks1':current_state_response['Endeks1']\n",
    "             }\n",
    "    \n",
    "    return store"
   ]
  },
  {
   "cell_type": "markdown",
   "metadata": {},
   "source": [
    "#### 1D - Çalışma Sonrası Script"
   ]
  },
  {
   "cell_type": "code",
   "execution_count": null,
   "metadata": {},
   "outputs": [],
   "source": []
  },
  {
   "cell_type": "markdown",
   "metadata": {},
   "source": [
    "#### 1E - İş Mantığı"
   ]
  },
  {
   "cell_type": "code",
   "execution_count": 7,
   "metadata": {},
   "outputs": [
    {
     "data": {
      "text/plain": [
       "'event/thor-billing-accrual-create'"
      ]
     },
     "execution_count": 7,
     "metadata": {},
     "output_type": "execute_result"
    }
   ],
   "source": [
    "\"\"\"event/thor-billing-accrual-create\"\"\""
   ]
  },
  {
   "cell_type": "markdown",
   "metadata": {},
   "source": [
    "## Step 2: Contract Terminated\n",
    "- **State Number**: 2\n",
    "- **State Code**: -\n",
    "- **State Name**: Contract Terminated\n",
    "- **Description**: This step ensures that the contract is terminated under specific rules for different subscriber groups. If the contract is not renewed, it terminates based on the subscriber group being \"Industrial.\" Public and private service sectors contracts are also considered for termination.\n",
    "- **Status**: Done"
   ]
  },
  {
   "cell_type": "markdown",
   "metadata": {},
   "source": [
    "#### 2A - Çalışma Öncesi Scripti"
   ]
  },
  {
   "cell_type": "code",
   "execution_count": null,
   "metadata": {},
   "outputs": [],
   "source": [
    "# machine                     : Currently executing machine instance\n",
    "# state                       : Currently executing state instance\n",
    "# request_data                : Original trigger data\n",
    "# context                     : Machine stored context (1. Muhatap(ID), 2. Tesisat(ID), 3. Sözleşme)\n",
    "# state_responses_of_machine  : State responses of Machine <StateCode, {prev, current, webhook}>\n",
    "# return\n",
    "#     json input of business logic service\n",
    "import json\n",
    "from datetime import datetime\n",
    "def state_handler(machine, state, request_data, context, state_response_of_machine):\n",
    "    \n",
    "    current_date = datetime.now().strftime('%Y%m%d') + '000000'\n",
    "\n",
    "    \n",
    "    subscriberGroup = next((attr for attr in request_data['attributes'] if attr['attribute']['attributeCode']=='SubscriberGroup'),None)['values'][0]['value']\n",
    "    ssbDocEndDate = next((attr for attr in request_data['attributes'] if attr['attribute']['attributeCode']=='SsbDocumentEndDate'),None)['value']\n",
    "    contractClass = next((attr for attr in request_data['attributes'] if attr['attribute']['attributeCode']=='ContractClass'),None)['value']\n",
    "\n",
    "    if contractClass  not in ['K2ST', 'DST']:\n",
    "        return {\"success\": True, \"error\": {\"code\": \"END\", \"detail\": \"ContractClass\"}}\n",
    "\n",
    "    \n",
    "    if request_data['isNew'] == True and subscriberGroup == 'SA':\n",
    "        if ssbDocEndDate > current_date:\n",
    "            return {\"success\": True, \"goto\": \"x\"}\n",
    "        else:\n",
    "            return {\"success\": True, \"error\": {\"code\": \"END\", \"detail\": \"SsbDocumentEndDate\"}}\n",
    "\n",
    "    elif request_data['isNew'] == False and subscriberGroup == 'KO':\n",
    "        return {\"success\": True, \"goto\": \"x\"}\n",
    "    else :\n",
    "        return {\"success\": True, \"error\": {\"code\": \"END\", \"detail\": \"Subscriber Group\"}}\n",
    "\n"
   ]
  },
  {
   "cell_type": "markdown",
   "metadata": {},
   "source": [
    "#### 2B - İstek Eşleştirme Scripti"
   ]
  },
  {
   "cell_type": "code",
   "execution_count": 5,
   "metadata": {},
   "outputs": [],
   "source": [
    "# machine              : Currently executing machine instance\n",
    "# state                : Currently executing state instance\n",
    "# request_data         : Original trigger data\n",
    "# context              : Machine stored context\n",
    "# prev_state_response  : Previous executed state business logic response\n",
    "# return\n",
    "#     json result of business/mapping\n",
    "import json\n",
    "from datetime import datetime\n",
    "\n",
    "def state_handler(machine, state, request_data, context, state_response_of_machine) -> json:  \n",
    "    \n",
    "    current_date = datetime.now().strftime('%Y%m%d') + '000000'\n",
    "    \n",
    "    data = {\n",
    "        \"id\": request_data[\"id\"],\n",
    "        \"attributes\": [\n",
    "            {\n",
    "                \"attribute\": {\n",
    "                    \"attributeCode\": \"ContractCancellationDate\"\n",
    "                },\n",
    "                \"value\":current_date\n",
    "            },\n",
    "            {\n",
    "                \"attribute\": {\n",
    "                    \"attributeCode\": \"ContractCancellationRequestDate\"\n",
    "                },\n",
    "                \"value\": current_date\n",
    "            },\n",
    "            {\n",
    "                \"attribute\": {\n",
    "                    \"attributeCode\": \"ContractCancellationReason\"\n",
    "                },\n",
    "                \"value\": \"SubscriberRequest\"  \n",
    "            },\n",
    "            {\n",
    "                \"attribute\": {\n",
    "                    \"attributeCode\": \"ContractNumber\"\n",
    "                },\n",
    "                \"value\": next((attr['value'] for attr in request_data['attributes'] \n",
    "                               if attr['attribute']['attributeCode'] == \"ContractNumber\"), None)\n",
    "            }\n",
    "        ],\n",
    "        \"authorityGroup\": request_data[\"authorityGroup\"],\n",
    "        \"contractLockID\": \"string\"  \n",
    "    }\n",
    "    \n",
    "    return json.dumps(data, indent=4)\n"
   ]
  },
  {
   "cell_type": "markdown",
   "metadata": {},
   "source": [
    "#### 2C - State Context Değer Tutma Scripti"
   ]
  },
  {
   "cell_type": "code",
   "execution_count": null,
   "metadata": {},
   "outputs": [],
   "source": [
    "#Null"
   ]
  },
  {
   "cell_type": "markdown",
   "metadata": {},
   "source": [
    "#### 2D - Çalışma Sonrası Scripti"
   ]
  },
  {
   "cell_type": "code",
   "execution_count": null,
   "metadata": {},
   "outputs": [],
   "source": [
    "# machine              : Currently executing machine instance\n",
    "# state                : Currently executing state instance\n",
    "# request_data         : Original trigger data\n",
    "# context              : Machine stored context\n",
    "# prev_state_response  : Previous executed state business logic response\n",
    "# return\n",
    "#     json result of business/mapping\n",
    "\n",
    "import json\n",
    "\n",
    "def state_handler(machine, state, request_data, context, state_response_of_machine):\n",
    "\n",
    "    return {\"success\": True, \"goto\": \"X\"}"
   ]
  },
  {
   "cell_type": "markdown",
   "metadata": {},
   "source": [
    "#### 2E - İş Mantığı"
   ]
  },
  {
   "cell_type": "code",
   "execution_count": 10,
   "metadata": {},
   "outputs": [
    {
     "data": {
      "text/plain": [
       "'contract/cancel'"
      ]
     },
     "execution_count": 10,
     "metadata": {},
     "output_type": "execute_result"
    }
   ],
   "source": [
    "\"\"\"contract/cancel\"\"\""
   ]
  },
  {
   "cell_type": "markdown",
   "metadata": {},
   "source": [
    "## Step 3: Data Preparation for New Account\n",
    "- **State Number**: 3\n",
    "- **State Code**: -\n",
    "- **State Name**: Data Preparation for New Account\n",
    "- **Description**: In this step, the system prepares the data needed to create a new account. The necessary attribute values are gathered from the terminated contract and associated account details.\n",
    "- **Status**: Pending"
   ]
  },
  {
   "cell_type": "markdown",
   "metadata": {},
   "source": [
    "#### 3A - Çalışma Öncesi Script"
   ]
  },
  {
   "cell_type": "code",
   "execution_count": 11,
   "metadata": {},
   "outputs": [],
   "source": [
    "#Null"
   ]
  },
  {
   "cell_type": "markdown",
   "metadata": {},
   "source": [
    "#### 3B - İstek Eşleştirme Scripti"
   ]
  },
  {
   "cell_type": "code",
   "execution_count": null,
   "metadata": {},
   "outputs": [],
   "source": [
    "# machine              : Currently executing machine instance\n",
    "# state                : Currently executing state instance\n",
    "# request_data         : Original trigger data\n",
    "# context              : Machine stored context\n",
    "# prev_state_response  : Previous executed state business logic response\n",
    "# return\n",
    "#     json result of business/mapping\n",
    "import json\n",
    "from datetime import datetime\n",
    "\n",
    "def state_handler(machine, state, request_data, context, state_response_of_machine) -> json:  \n",
    "    contractAccountId = next((attr for attr in request_data['attributes'] if attr['attribute']['attributeCode']=='ContractAccountId'),None)['value']\n",
    "\n",
    "    return {\"assetid\":contractAccountId}"
   ]
  },
  {
   "cell_type": "markdown",
   "metadata": {},
   "source": [
    "#### 3C - State Context Değer Tutma Scripti"
   ]
  },
  {
   "cell_type": "code",
   "execution_count": null,
   "metadata": {},
   "outputs": [],
   "source": [
    "#Null"
   ]
  },
  {
   "cell_type": "markdown",
   "metadata": {},
   "source": [
    "#### 3D - Çalışma Sonrası Scripti "
   ]
  },
  {
   "cell_type": "code",
   "execution_count": null,
   "metadata": {},
   "outputs": [],
   "source": [
    "# machine              : Currently executing machine instance\n",
    "# state                : Currently executing state instance\n",
    "# request_data         : Original trigger data\n",
    "# context              : Machine stored context\n",
    "# prev_state_response  : Previous executed state business logic response\n",
    "# return\n",
    "#     json result of business/mapping\n",
    "\n",
    "import json\n",
    "\n",
    "def state_handler(machine, state, request_data, context, state_response_of_machine):\n",
    "\n",
    "    return {\"success\": True, \"goto\": \"X\"}"
   ]
  },
  {
   "cell_type": "markdown",
   "metadata": {},
   "source": [
    "#### 3E - İş Mantığı"
   ]
  },
  {
   "cell_type": "code",
   "execution_count": null,
   "metadata": {},
   "outputs": [],
   "source": [
    "\"\"\"md/search\"\"\""
   ]
  },
  {
   "cell_type": "markdown",
   "metadata": {},
   "source": [
    "## Step 4: New Account Created\n",
    "- **State Number**: 4\n",
    "- **State Code**: -\n",
    "- **State Name**: New Account Created\n",
    "- **Description**: This step creates a new account based on the details of the terminated contract. Some attribute values may differ, and these changes are reflected in the new account. Historical data for the old account is also updated to match the new expiry dates.\n",
    "- **Status**: Pending\n"
   ]
  },
  {
   "cell_type": "markdown",
   "metadata": {},
   "source": [
    "#### 4A. Çalışma Öncesi Scripti"
   ]
  },
  {
   "cell_type": "code",
   "execution_count": null,
   "metadata": {},
   "outputs": [],
   "source": [
    "#Null"
   ]
  },
  {
   "cell_type": "markdown",
   "metadata": {},
   "source": [
    "#### 4B. İstek Eşleştirme Scripti"
   ]
  },
  {
   "cell_type": "code",
   "execution_count": null,
   "metadata": {},
   "outputs": [],
   "source": [
    "# machine              : Currently executing machine instance\n",
    "# state                : Currently executing state instance\n",
    "# request_data         : Original trigger data\n",
    "# context              : Machine stored context\n",
    "# prev_state_response  : Previous executed state business logic response\n",
    "# return\n",
    "#     json result of business/mapping\n",
    "import json\n",
    "from datetime import datetime\n",
    "\n",
    "def state_handler(machine, state, request_data, context, state_response_of_machine):\n",
    "\n",
    "    prev_state_response = state_response_of_machine\n",
    "    \n",
    "    create_date = next((attr for attr in prev_state_response['attributes'] if attr['attribute']['attributeCode'] == 'CreateDate'),None)['value'] \n",
    "    \n",
    "    AccountClassCode = 1\n",
    "    TaxClass = 2\n",
    "    AccountGLCode = 3\n",
    "    AccountSubscriberGroup = 4\n",
    "    \n",
    "    changes_dict = {'AccountClassCode': AccountClassCode,\n",
    "                    'TaxClass': TaxClass,\n",
    "                    'AccountGLCode': AccountGLCode,\n",
    "                    'ExpiryDate':create_date\n",
    "                    }\n",
    "    \n",
    "    \n",
    "    if AccountSubscriberGroup == 'IndustrySubscriberGroup':\n",
    "        changes_dict['AccountSubscriberGroup'] = 'PAPSSAOSG'\n",
    "    else:\n",
    "        changes_dict['AccountSubscriberGroup'] = 'IndustrySubscriberGroup'\n",
    "    \n",
    "    copied_json = {}\n",
    "    stack = [(copied_json, prev_state_response)]\n",
    "\n",
    "    # Copy context to copied_json without id\n",
    "    while stack:\n",
    "        current_copied, current_original = stack.pop()\n",
    "\n",
    "        for key, value in current_original.items():\n",
    "            if key != 'id':\n",
    "                if isinstance(value, list):\n",
    "                    new_list = []\n",
    "                    for item in value:\n",
    "                        if isinstance(item, dict):\n",
    "                            new_item = {}\n",
    "                            new_list.append(new_item)\n",
    "                            stack.append((new_item, item))\n",
    "                        else:\n",
    "                            new_list.append(item)\n",
    "                    current_copied[key] = new_list\n",
    "                elif isinstance(value, dict):\n",
    "                    new_dict = {}\n",
    "                    current_copied[key] = new_dict\n",
    "                    stack.append((new_dict, value))\n",
    "                else:\n",
    "                    current_copied[key] = value\n",
    "    \n",
    "    for code, new_value in changes_dict.items():\n",
    "        for attr in copied_json.get('attributes', []):\n",
    "            if attr['attribute']['attributeCode'] == code:\n",
    "                if attr['value'] is None:\n",
    "                    attr['values'][0]['value'] = new_value\n",
    "                    attr['values'][0]['valueDesc'] = None\n",
    "                else:\n",
    "                    attr['values'][0]['valueDesc'] = None\n",
    "                    attr['value'] = new_value\n",
    "    \n",
    "    return copied_json\n"
   ]
  },
  {
   "cell_type": "markdown",
   "metadata": {},
   "source": [
    "#### 4C. State Context Değer Tutma Scripti"
   ]
  },
  {
   "cell_type": "code",
   "execution_count": null,
   "metadata": {},
   "outputs": [],
   "source": [
    "# machine              : Currently executing machine instance\n",
    "# state                : Currently executing state instance\n",
    "# request_data         : Original trigger data\n",
    "# context              : Machine stored context\n",
    "# prev_state_response  : Previous executed state business logic response\n",
    "# return\n",
    "#     json result of business/mapping\n",
    "\n",
    "import json\n",
    "\n",
    "def state_handler(machine, state, request_data, context, state_response_of_machine):\n",
    "    current_state_response = state_response_of_machine\n",
    "    AccountId = state_response_of_machine['id']\n",
    "\n",
    "    store = {'NewAccountId':AccountId}\n",
    "    return store"
   ]
  },
  {
   "cell_type": "markdown",
   "metadata": {},
   "source": [
    "#### 4D. Çalışma Sonrası Scripti"
   ]
  },
  {
   "cell_type": "code",
   "execution_count": null,
   "metadata": {},
   "outputs": [],
   "source": [
    "# machine              : Currently executing machine instance\n",
    "# state                : Currently executing state instance\n",
    "# request_data         : Original trigger data\n",
    "# context              : Machine stored context\n",
    "# prev_state_response  : Previous executed state business logic response\n",
    "# return\n",
    "#     json result of business/mapping\n",
    "\n",
    "import json\n",
    "\n",
    "def state_handler(machine, state, request_data, context, state_response_of_machine):\n",
    "\n",
    "    return {\"success\": True, \"goto\": \"X\"}"
   ]
  },
  {
   "cell_type": "markdown",
   "metadata": {},
   "source": [
    "#### 4E. İş Mantığı"
   ]
  },
  {
   "cell_type": "code",
   "execution_count": null,
   "metadata": {},
   "outputs": [
    {
     "data": {
      "text/plain": [
       "'md/save'"
      ]
     },
     "execution_count": 6,
     "metadata": {},
     "output_type": "execute_result"
    }
   ],
   "source": [
    "\"\"\"account/save\"\"\""
   ]
  },
  {
   "cell_type": "markdown",
   "metadata": {},
   "source": [
    "## Step 5: New Contract Created\n",
    "- **State Number**: 5\n",
    "- **State Code**: -\n",
    "- **State Name**: New Contract Created\n",
    "- **Description**: A new contract is created using the data from the terminated contract. If the contract was not renewed, this step ensures the creation of a contract for the \"Industrial\" subscriber group. For public and private service sectors, the contract is generated with new attributes like ContractAccountId, SubscriberGroup, and ContractBeginDate.\n",
    "- **Status**: Pending"
   ]
  },
  {
   "cell_type": "markdown",
   "metadata": {},
   "source": [
    "#### 5A. Çalışma Öncesi Scripti"
   ]
  },
  {
   "cell_type": "code",
   "execution_count": null,
   "metadata": {},
   "outputs": [],
   "source": [
    "#Null"
   ]
  },
  {
   "cell_type": "markdown",
   "metadata": {},
   "source": [
    "#### 5B. İstek Eşleştirme Scripti"
   ]
  },
  {
   "cell_type": "code",
   "execution_count": null,
   "metadata": {},
   "outputs": [],
   "source": [
    "from datetime import datetime\n",
    "import json\n",
    "def state_handler(machine, state, request_data, context, state_response_of_machine):\n",
    "    # Not recursive \n",
    "    prev_state_response = state_response_of_machine\n",
    "    \n",
    "    current_date = datetime.now().strftime('%Y%m%d') + '000000'\n",
    "    #create_date = next((attr for attr in prev_state_response['attributes'] if attr['attribute']['attributeCode'] == 'CreateDate'),None)['value']        \n",
    "    \n",
    "    prev_state_response = state_response_of_machine['X']['businessLogicOfPreviousState']\n",
    "    subscriberGroup = 2\n",
    "    contractBeginReason = 1\n",
    "    SsbDocumentId = 3\n",
    "    \n",
    "    changes_dict = {'TermType': 'ÇT',\n",
    "                    'ProducerTermType': 'ÇT',\n",
    "                    'ContractAccountId': prev_state_response['id'],\n",
    "                    'ProducerAccountId' : prev_state_response['id'],\n",
    "                    'ContractBeginReason':contractBeginReason,\n",
    "                    'SsbDocumentId' : SsbDocumentId,\n",
    "                    'ContractSignDate': current_date,\n",
    "                    'ContractBeginDate' : current_date\n",
    "                    }\n",
    "    \n",
    "    if subscriberGroup == 'KO':\n",
    "        changes_dict['SubscriberGroup'] = 'SA'\n",
    "    else:\n",
    "        changes_dict['SubscriberGroup'] = 'KO'\n",
    "    \n",
    "    copied_json = {}\n",
    "    stack = [(copied_json, request_data)]\n",
    "\n",
    "    # Copy context to copied_json without id\n",
    "    while stack:\n",
    "        current_copied, current_original = stack.pop()\n",
    "\n",
    "        for key, value in current_original.items():\n",
    "            if key != 'id':\n",
    "                if isinstance(value, list):\n",
    "                    new_list = []\n",
    "                    for item in value:\n",
    "                        if isinstance(item, dict):\n",
    "                            new_item = {}\n",
    "                            new_list.append(new_item)\n",
    "                            stack.append((new_item, item))\n",
    "                        else:\n",
    "                            new_list.append(item)\n",
    "                    current_copied[key] = new_list\n",
    "                elif isinstance(value, dict):\n",
    "                    new_dict = {}\n",
    "                    current_copied[key] = new_dict\n",
    "                    stack.append((new_dict, value))\n",
    "                else:\n",
    "                    current_copied[key] = value\n",
    "\n",
    "    # Set dates for all values in copied_json\n",
    "    for key, value in copied_json.items():\n",
    "        if isinstance(value, list):\n",
    "            for item in value:\n",
    "                if isinstance(item, dict):\n",
    "                    if item.get('value') is None and 'values' in item and item['values']:\n",
    "                        item['values'][0]['startDate'] = current_date\n",
    "                        item['values'][0]['endDate'] = 99991231235959\n",
    "                    elif item.get('value') is not None:\n",
    "                        item['startDate'] = current_date\n",
    "                        item['endDate'] = 99991231235959\n",
    "        elif isinstance(value, dict):\n",
    "            if value.get('value') is None and 'values' in value and value['values']:\n",
    "                value['values'][0]['startDate'] = current_date\n",
    "                value['values'][0]['endDate'] = 99991231235959\n",
    "            elif value.get('value') is not None:\n",
    "                value['startDate'] = current_date\n",
    "                value['endDate'] = 99991231235959\n",
    "\n",
    "    # Update attribute values in context according to the dict above\n",
    "    for code, new_value in changes_dict.items():\n",
    "        for attr in copied_json.get('attributes', []):\n",
    "            if attr['attribute']['attributeCode'] == code:\n",
    "                if attr['value'] is None:\n",
    "                    attr['values'][0]['value'] = new_value\n",
    "                    attr['values'][0]['valueDesc'] = None\n",
    "                else:\n",
    "                    attr['values'][0]['valueDesc'] = None\n",
    "                    attr['value'] = new_value\n",
    "\n",
    "    return copied_json  "
   ]
  },
  {
   "cell_type": "markdown",
   "metadata": {},
   "source": [
    "#### 5C. State Context Değer Tutma Scripti"
   ]
  },
  {
   "cell_type": "code",
   "execution_count": null,
   "metadata": {},
   "outputs": [],
   "source": [
    "# machine              : Currently executing machine instance\n",
    "# state                : Currently executing state instance\n",
    "# request_data         : Original trigger data\n",
    "# context              : Machine stored context\n",
    "# prev_state_response  : Previous executed state business logic response\n",
    "# return\n",
    "#     json result of business/mapping\n",
    "\n",
    "import json\n",
    "\n",
    "def state_handler(machine, state, request_data, context, state_response_of_machine):\n",
    "    current_state_response = state_response_of_machine\n",
    "    ContractId = state_response_of_machine['id']\n",
    "\n",
    "    store = {'NewContractId':ContractId}\n",
    "    return store"
   ]
  },
  {
   "cell_type": "markdown",
   "metadata": {},
   "source": [
    "#### 5D. Çalışma Sonrası Scripti"
   ]
  },
  {
   "cell_type": "code",
   "execution_count": null,
   "metadata": {},
   "outputs": [],
   "source": [
    "# machine              : Currently executing machine instance\n",
    "# state                : Currently executing state instance\n",
    "# request_data         : Original trigger data\n",
    "# context              : Machine stored context\n",
    "# prev_state_response  : Previous executed state business logic response\n",
    "# return\n",
    "#     json result of business/mapping\n",
    "\n",
    "import json\n",
    "\n",
    "def state_handler(machine, state, request_data, context, state_response_of_machine):\n",
    "\n",
    "    return {\"success\": True, \"goto\": \"X\"}"
   ]
  },
  {
   "cell_type": "markdown",
   "metadata": {},
   "source": [
    "#### 5E. İş Mantığı"
   ]
  },
  {
   "cell_type": "code",
   "execution_count": null,
   "metadata": {},
   "outputs": [],
   "source": [
    "\"\"\"contract/create\"\"\""
   ]
  },
  {
   "cell_type": "markdown",
   "metadata": {},
   "source": [
    "## Step 6: Closing Invoice Created\n",
    "- **State Number**: 6\n",
    "- **State Code**: -\n",
    "- **State Name**: Closing Invoice Created\n",
    "- **Description**: This step ensures that the closing invoice is generated using the appropriate rate for the subscriber group (either public/private service sectors or industrial). The closing invoice is calculated using the accrual date and reading indexes.\n",
    "- **Status**: Pending"
   ]
  },
  {
   "cell_type": "markdown",
   "metadata": {},
   "source": [
    "#### 6A - Çalışma Öncesi Scripti"
   ]
  },
  {
   "cell_type": "code",
   "execution_count": null,
   "metadata": {},
   "outputs": [],
   "source": [
    "#Null"
   ]
  },
  {
   "cell_type": "markdown",
   "metadata": {},
   "source": [
    "#### 6B - İstek Eşleştirme Scripti"
   ]
  },
  {
   "cell_type": "code",
   "execution_count": null,
   "metadata": {},
   "outputs": [],
   "source": [
    "# machine              : Currently executing machine instance\n",
    "# state                : Currently executing state instance\n",
    "# request_data         : Original trigger data\n",
    "# context              : Machine stored context\n",
    "# prev_state_response  : Previous executed state business logic response\n",
    "# return\n",
    "#     json result of business/mapping\n",
    "\n",
    "import json\n",
    "\n",
    "def state_handler(machine, state, request_data, context, state_response_of_machine):\n",
    "    return{context[['AccrualDate','Endeks1','Endeks2','Endeks3']]}"
   ]
  },
  {
   "cell_type": "markdown",
   "metadata": {},
   "source": [
    "#### 6C - State Context Değer Tutma Scripti"
   ]
  },
  {
   "cell_type": "code",
   "execution_count": null,
   "metadata": {},
   "outputs": [],
   "source": [
    "# machine              : Currently executing machine instance\n",
    "# state                : Currently executing state instance\n",
    "# request_data         : Original trigger data\n",
    "# context              : Machine stored context\n",
    "# prev_state_response  : Previous executed state business logic response\n",
    "# return\n",
    "#     json result of business/mapping\n",
    "\n",
    "import json\n",
    "\n",
    "def state_handler(machine, state, request_data, context, state_response_of_machine):\n",
    "    store = {}\n",
    "    return store"
   ]
  },
  {
   "cell_type": "markdown",
   "metadata": {},
   "source": [
    "#### 6D - Çalışma Sonrası Scripti"
   ]
  },
  {
   "cell_type": "code",
   "execution_count": null,
   "metadata": {},
   "outputs": [],
   "source": [
    "# machine              : Currently executing machine instance\n",
    "# state                : Currently executing state instance\n",
    "# request_data         : Original trigger data\n",
    "# context              : Machine stored context\n",
    "# prev_state_response  : Previous executed state business logic response\n",
    "# return\n",
    "#     json result of business/mapping\n",
    "\n",
    "import json\n",
    "\n",
    "def state_handler(machine, state, request_data, context, state_response_of_machine):\n",
    "\n",
    "    return {\"success\": True, \"goto\": \"END\"}"
   ]
  },
  {
   "cell_type": "markdown",
   "metadata": {},
   "source": [
    "#### 6E - İş Mantığı"
   ]
  },
  {
   "cell_type": "code",
   "execution_count": null,
   "metadata": {},
   "outputs": [],
   "source": [
    "\"\"\"accruals/calculate\"\"\""
   ]
  }
 ],
 "metadata": {
  "kernelspec": {
   "display_name": "Python 3",
   "language": "python",
   "name": "python3"
  },
  "language_info": {
   "codemirror_mode": {
    "name": "ipython",
    "version": 3
   },
   "file_extension": ".py",
   "mimetype": "text/x-python",
   "name": "python",
   "nbconvert_exporter": "python",
   "pygments_lexer": "ipython3",
   "version": "3.12.3"
  }
 },
 "nbformat": 4,
 "nbformat_minor": 2
}
