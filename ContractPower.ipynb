{
 "cells": [
  {
   "cell_type": "markdown",
   "metadata": {},
   "source": [
    "# Sözleşme Gücü Değişikliği"
   ]
  },
  {
   "cell_type": "markdown",
   "metadata": {},
   "source": [
    "## Step 1: Change Control Process\n",
    "- **State Number**: 2\n",
    "- **State Code**: 10370002\n",
    "- **State Name**: Contract Power Change Process Initiated - Change Control\n",
    "- **Description**: This state controls the change process. If all checks are passed, it moves to the next state; otherwise, it transitions to the termination state. The checks include validating the contract term, ensuring the number of power changes is less than three, and confirming the contract is active."
   ]
  },
  {
   "cell_type": "markdown",
   "metadata": {},
   "source": [
    "#### 1a. Çalışma Öncesi Script"
   ]
  },
  {
   "cell_type": "code",
   "execution_count": null,
   "metadata": {},
   "outputs": [],
   "source": [
    "# machine              : Currently executing machine instance\n",
    "# state                : Currently executing state instance\n",
    "# request_data         : Original trigger data\n",
    "# context              : Machine stored context\n",
    "# prev_state_response  : Previous executed state business logic response\n",
    "# return\n",
    "#     json result of business/mapping\n",
    "def state_handler(machine, state, request_data, context, state_responses_of_machine):\n",
    "    return  {}\n",
    " \n",
    "    "
   ]
  },
  {
   "cell_type": "markdown",
   "metadata": {},
   "source": [
    "#### 1b. İstek Eşleştirme Scripti"
   ]
  },
  {
   "cell_type": "code",
   "execution_count": null,
   "metadata": {},
   "outputs": [],
   "source": [
    "# machine              : Currently executing machine instance\n",
    "# state                : Currently executing state instance\n",
    "# request_data         : Original trigger data\n",
    "# context              : Machine stored context\n",
    "# prev_state_response  : Previous executed state business logic response\n",
    "# return\n",
    "#     json result of business/mapping\n",
    "def state_handler(machine, state, request_data, context, state_responses_of_machine):\n",
    "    # do business/mapping here\n",
    "    return {\"body\": {}, \"params\": {\"assetId\":str(request_data[\"id\"])}}\n"
   ]
  },
  {
   "cell_type": "markdown",
   "metadata": {},
   "source": [
    "#### 1c. State Context Değer Tutma Scripti"
   ]
  },
  {
   "cell_type": "code",
   "execution_count": null,
   "metadata": {},
   "outputs": [],
   "source": [
    "# machine           : Currently executing machine instance\n",
    "# state             : Currently executing state instance\n",
    "# source            : Original trigger data\n",
    "# context           : Machine stored context\n",
    "# prevStateResponse : Previous executed state business logic response\n",
    "# return\n",
    "#     store dictionary  \n",
    "def state_handler(machine, state, request_data, context, state_responses_of_machine):\n",
    "    current_state_response = state_responses_of_machine['10370002']['businessLogicResponse']\n",
    "    \n",
    "    servicePointId = next((attr for attr in current_state_response['attributes'] if attr['attribute']['attributeCode'] == 'ServicePointId'), None)['value']\n",
    "    contractAccountId = next((attr for attr in current_state_response['attributes'] if attr['attribute']['attributeCode'] == 'ContractAccountId'), None)['value']\n",
    "    contractNumber = next((attr for attr in current_state_response['attributes'] if attr['attribute']['attributeCode'] == 'ContractNumber'), None)['value']\n",
    "    \n",
    "    store = {'ServicePointId' : servicePointId,\n",
    "             'ContractAccountId' : contractAccountId,\n",
    "             'ContractNumber': contractNumber}\n",
    "    \n",
    "    return store\n"
   ]
  },
  {
   "cell_type": "markdown",
   "metadata": {},
   "source": [
    "#### 1d. Çalışma Sonrası Scripti"
   ]
  },
  {
   "cell_type": "code",
   "execution_count": null,
   "metadata": {},
   "outputs": [],
   "source": [
    "# machine              : Currently executing machine instance\n",
    "# state                : Currently executing state instance\n",
    "# request_data         : Original trigger data\n",
    "# context              : Machine stored context\n",
    "# prev_state_response  : Previous executed state business logic response\n",
    "# return\n",
    "#     json result of business/mapping\n",
    "def state_handler(machine, state, request_data, context, state_responses_of_machine):\n",
    "\n",
    "\n",
    "    \n",
    "    cancelDate = next((attr for attr in request_data['attributes'] if attr['attribute']['attributeCode'] == 'ContractCancellationDate'), None)['value']\n",
    "    termType = next((attr for attr in request_data['attributes'] if attr['attribute']['attributeCode'] == 'TermType'), None)['values'][0]['value']\n",
    "    contractPower = next((attr for attr in request_data['attributes'] if attr['attribute']['attributeCode'] == 'ContractPower'), None)['values'][0]['value']\n",
    "    newContractPower = request_data['newContractPower']\n",
    "\n",
    "    if request_data['count'] > 3:\n",
    "        return {\"success\": True, \"error\": {\"code\": \"END\", \"detail\": \"Değişim Sayısı\"}}\n",
    "    \n",
    "    if cancelDate != 99991231000000:\n",
    "        return {\"success\": True, \"error\": {\"code\": \"END\", \"detail\": \"İptal Tarihi\"}}\n",
    "    if termType != 'CT':\n",
    "        return {\"success\": True, \"error\": {\"code\": \"END\", \"detail\": \"Terim Tipi\"}}\n",
    "    if newContractPower == contractPower:\n",
    "        return {\"success\": True, \"error\": {\"code\": \"END\", \"detail\": \"Aynı Değer\"}}\n",
    "    \n",
    "    else:\n",
    "        return {\"success\": True, \"goto\": \"10370002\"}\n",
    " \n",
    "    \n",
    "    \n"
   ]
  },
  {
   "cell_type": "markdown",
   "metadata": {},
   "source": [
    "#### 1e. İş Mantığı"
   ]
  },
  {
   "cell_type": "code",
   "execution_count": null,
   "metadata": {},
   "outputs": [],
   "source": [
    "\"\"\"md/search\"\"\""
   ]
  },
  {
   "cell_type": "markdown",
   "metadata": {},
   "source": [
    "## Step 2: Invoice Creation\n",
    "- **State Number**: 3\n",
    "- **State Code**: 10370003\n",
    "- **State Name**: Invoice Creation\n",
    "- **Description**: After the machine is created, it waits for the first invoice to be generated. At this stage, a specific event (from Kafka) is expected.\n",
    "- **Status**: Pending"
   ]
  },
  {
   "cell_type": "markdown",
   "metadata": {},
   "source": [
    "#### 2a. Çalışma Öncesi Scripti"
   ]
  },
  {
   "cell_type": "code",
   "execution_count": null,
   "metadata": {},
   "outputs": [],
   "source": [
    "#Yok"
   ]
  },
  {
   "cell_type": "markdown",
   "metadata": {},
   "source": [
    "#### 2b. İstek Eşleştirme Scripti "
   ]
  },
  {
   "cell_type": "code",
   "execution_count": null,
   "metadata": {},
   "outputs": [],
   "source": [
    "#Yok"
   ]
  },
  {
   "cell_type": "markdown",
   "metadata": {},
   "source": [
    "#### 2c. State Context Değer Tutma Scripti"
   ]
  },
  {
   "cell_type": "code",
   "execution_count": null,
   "metadata": {},
   "outputs": [],
   "source": [
    "#Yok"
   ]
  },
  {
   "cell_type": "markdown",
   "metadata": {},
   "source": [
    "#### 2d. Çalışma Sonrası Scripti"
   ]
  },
  {
   "cell_type": "code",
   "execution_count": null,
   "metadata": {},
   "outputs": [],
   "source": [
    "#Yok"
   ]
  },
  {
   "cell_type": "markdown",
   "metadata": {},
   "source": [
    "## Step 3: Contract Termination\n",
    "- **State Number**: 4\n",
    "- **State Code**: 10370004\n",
    "- **State Name**: Contract Termination\n",
    "- **Description**: This state signifies the termination of the existing dual-term contract. Relevant date attributes are updated, and then it transitions to the next state."
   ]
  },
  {
   "cell_type": "markdown",
   "metadata": {},
   "source": [
    "#### 3a. Çalışma Öncesi Scripti"
   ]
  },
  {
   "cell_type": "code",
   "execution_count": null,
   "metadata": {},
   "outputs": [],
   "source": [
    "#Yok"
   ]
  },
  {
   "cell_type": "markdown",
   "metadata": {},
   "source": [
    "#### 3b. İstek Eşleştirme Scripti "
   ]
  },
  {
   "cell_type": "code",
   "execution_count": null,
   "metadata": {},
   "outputs": [],
   "source": [
    "# machine              : Currently executing machine instance\n",
    "# state                : Currently executing state instance\n",
    "# request_data         : Original trigger data\n",
    "# context              : Machine stored context\n",
    "# prev_state_response  : Previous executed state business logic response\n",
    "# return\n",
    "#     json result of business/mapping\n",
    "import json\n",
    "from datetime import datetime\n",
    "\n",
    "def state_handler(machine, state, request_data, context, state_responses_of_machine):\n",
    "    \n",
    "    current_date = datetime.now().strftime('%Y%m%d%H%M%S') \n",
    "    \n",
    "    data = {\n",
    "        \"id\": request_data[\"id\"],\n",
    "        \"attributes\": [\n",
    "            {\n",
    "                \"attribute\": {\n",
    "                    \"attributeCode\": \"ContractCancellationDate\"\n",
    "                },\n",
    "                \"value\":current_date\n",
    "            },\n",
    "            {\n",
    "                \"attribute\": {\n",
    "                    \"attributeCode\": \"ContractCancellationRequestDate\"\n",
    "                },\n",
    "                \"value\": current_date\n",
    "            },\n",
    "            {\n",
    "                \"attribute\": {\n",
    "                    \"attributeCode\": \"ContractCancellationReason\"\n",
    "                },\n",
    "                \"value\": \"SubscriberRequest\"  \n",
    "            },\n",
    "            {\n",
    "                \"attribute\": {\n",
    "                    \"attributeCode\": \"ContractNumber\"\n",
    "                },\n",
    "                \"value\": context['ContractNumber']\n",
    "            }\n",
    "        ],\n",
    "        \"authorityGroup\": \"string\",\n",
    "        \"contractLockID\": \"string\"  \n",
    "    }\n",
    "    \n",
    "    return {\"body\": data}\n"
   ]
  },
  {
   "cell_type": "markdown",
   "metadata": {},
   "source": [
    "#### 3b. İstek Eşleştirme Scripti (Excell'de benden beklenen)"
   ]
  },
  {
   "cell_type": "code",
   "execution_count": null,
   "metadata": {},
   "outputs": [],
   "source": [
    "# machine              : Currently executing machine instance\n",
    "# state                : Currently executing state instance\n",
    "# request_data         : Original trigger data\n",
    "# context              : Machine stored context\n",
    "# prev_state_response  : Previous executed state business logic response\n",
    "# return\n",
    "#     json result of business/mapping\n",
    "import json\n",
    "def state_handler(machine, state, request_data, context, state_responses_of_machine):\n",
    "    return request_data['id']"
   ]
  },
  {
   "cell_type": "markdown",
   "metadata": {},
   "source": [
    "#### 3c. State Context Değer Tutma Scripti"
   ]
  },
  {
   "cell_type": "code",
   "execution_count": null,
   "metadata": {},
   "outputs": [],
   "source": [
    "## Yok"
   ]
  },
  {
   "cell_type": "markdown",
   "metadata": {},
   "source": [
    "#### 3d. Çalışma Sonrası Scripti"
   ]
  },
  {
   "cell_type": "code",
   "execution_count": null,
   "metadata": {},
   "outputs": [],
   "source": [
    "# machine                 : Currently executing machine instance\n",
    "# state                   : Currently executing state instance\n",
    "# request_data            : Original trigger data\n",
    "# context                 : Machine stored context\n",
    "# prev_state_response     : Previous executed state business logic response\n",
    "# current_state_response  : Currently executed state business logic response\n",
    "# return\n",
    "#     {\"success\": True, \"goto\": \"STATE_CODE\"}\n",
    "#     {\"success\": False, \"error\": {\"code\": \"...\", \"detail\": \"...\"}}\n",
    "def state_handler(machine, state, request_data, context, state_responses_of_machine):\n",
    "        # do workflow here\n",
    "    return {\"success\": True, \"goto\": \"10370005\"}\n"
   ]
  },
  {
   "cell_type": "markdown",
   "metadata": {},
   "source": [
    "\n",
    "## Step 4: Closure Accrual Creation\n",
    "- **State Number**: 5\n",
    "- **State Code**: 10370005\n",
    "- **State Name**: Closure Accrual Creation\n",
    "- **Description**: A closure invoice is created for the terminated contract. The invoice creation dates and indexes are processed here.\n",
    "- **Status**: Pending"
   ]
  },
  {
   "cell_type": "markdown",
   "metadata": {},
   "source": [
    "#### 4a. Çalışma Öncesi Scripti"
   ]
  },
  {
   "cell_type": "code",
   "execution_count": null,
   "metadata": {},
   "outputs": [],
   "source": [
    "# Yok"
   ]
  },
  {
   "cell_type": "markdown",
   "metadata": {},
   "source": [
    "#### 4b. İstek Eşleştirme Scripti "
   ]
  },
  {
   "cell_type": "code",
   "execution_count": null,
   "metadata": {},
   "outputs": [],
   "source": [
    "#yok"
   ]
  },
  {
   "cell_type": "markdown",
   "metadata": {},
   "source": [
    "#### 4c. State Context Değer Tutma Scripti"
   ]
  },
  {
   "cell_type": "code",
   "execution_count": null,
   "metadata": {},
   "outputs": [],
   "source": [
    "#Yok"
   ]
  },
  {
   "cell_type": "markdown",
   "metadata": {},
   "source": [
    "#### 4d. Çalışma Sonrası Scripti"
   ]
  },
  {
   "cell_type": "code",
   "execution_count": null,
   "metadata": {},
   "outputs": [],
   "source": [
    "# machine                 : Currently executing machine instance\n",
    "# state                   : Currently executing state instance\n",
    "# request_data            : Original trigger data\n",
    "# context                 : Machine stored context\n",
    "# prev_state_response     : Previous executed state business logic response\n",
    "# current_state_response  : Currently executed state business logic response\n",
    "# return\n",
    "#     {\"success\": True, \"goto\": \"STATE_CODE\"}\n",
    "#     {\"success\": False, \"error\": {\"code\": \"...\", \"detail\": \"...\"}}\n",
    "def state_handler(machine, state, request_data, context, state_responses_of_machine):\n",
    "        # do workflow here\n",
    "    return {\"success\": True, \"goto\": \"10370006-1\"}\n"
   ]
  },
  {
   "cell_type": "markdown",
   "metadata": {},
   "source": [
    "#### 4e. İş Mantığı"
   ]
  },
  {
   "cell_type": "code",
   "execution_count": null,
   "metadata": {},
   "outputs": [
    {
     "data": {
      "text/plain": [
       "'http://thor-stage.edas1.com/host/v1//accruals/calculate'"
      ]
     },
     "metadata": {},
     "output_type": "display_data"
    }
   ],
   "source": [
    "\"\"\"http://thor-stage.edas1.com/host/v1//accruals/calculate\"\"\""
   ]
  },
  {
   "cell_type": "markdown",
   "metadata": {},
   "source": [
    "## Step 5: Data Preparation for New Account\n",
    "- **State Number**: -\n",
    "- **State Code**: -\n",
    "- **State Name**: Data Preparation for New Account\n",
    "- **Description**: This process involves preparing the necessary data for creating a new account. Relevant attributes are queried.\n",
    "- **Status**: Pending"
   ]
  },
  {
   "cell_type": "markdown",
   "metadata": {},
   "source": [
    "#### 5a. Çalışma Öncesi Scripti"
   ]
  },
  {
   "cell_type": "code",
   "execution_count": null,
   "metadata": {},
   "outputs": [],
   "source": [
    "#Yok"
   ]
  },
  {
   "cell_type": "markdown",
   "metadata": {},
   "source": [
    "#### 5b. İstek Eşleştirme Scripti "
   ]
  },
  {
   "cell_type": "code",
   "execution_count": null,
   "metadata": {},
   "outputs": [],
   "source": [
    "# machine                     : Currently executing machine instance\n",
    "# state                       : Currently executing state instance\n",
    "# request_data                : Original trigger data\n",
    "# context                     : Machine stored context\n",
    "# state_responses_of_machine  : State responses of Machine <StateCode, {prev, businessLogic, webhook}>\n",
    "# return\n",
    "#     {\"success\": True, \"goto\": \"STATE_CODE\"}\n",
    "#     {\"success\": False, \"error\": {\"code\": \"...\", \"detail\": \"...\"}}\n",
    "def state_handler(machine, state, request_data, context, state_responses_of_machine):  \n",
    "    contractAccountId = next((attr for attr in request_data['attributes'] if attr['attribute']['attributeCode']=='ContractAccountId'),None)['value']\n",
    "    \n",
    "    return {\"params\": {\"assetId\":contractAccountId}}"
   ]
  },
  {
   "cell_type": "markdown",
   "metadata": {},
   "source": [
    "#### 5c. State Context Değer Tutma Scripti"
   ]
  },
  {
   "cell_type": "code",
   "execution_count": null,
   "metadata": {},
   "outputs": [],
   "source": [
    "# machine           : Currently executing machine instance\n",
    "# state             : Currently executing state instance\n",
    "# source            : Original trigger data\n",
    "# context           : Machine stored context\n",
    "# prevStateResponse : Previous executed state business logic response\n",
    "# return\n",
    "#     store dictionary  \n",
    "def state_handler(machine, state, request_data, context, state_responses_of_machine):\n",
    "    store = {'accountInfo' : state_responses_of_machine['10370006-1']['businessLogicResponse']}\n",
    "    return store"
   ]
  },
  {
   "cell_type": "markdown",
   "metadata": {},
   "source": [
    "#### 5d. Çalışma Sonrası Scripti"
   ]
  },
  {
   "cell_type": "code",
   "execution_count": null,
   "metadata": {},
   "outputs": [],
   "source": [
    "# machine                 : Currently executing machine instance\n",
    "# state                   : Currently executing state instance\n",
    "# request_data            : Original trigger data\n",
    "# context                 : Machine stored context\n",
    "# prev_state_response     : Previous executed state business logic response\n",
    "# current_state_response  : Currently executed state business logic response\n",
    "# return\n",
    "#     {\"success\": True, \"goto\": \"STATE_CODE\"}\n",
    "#     {\"success\": False, \"error\": {\"code\": \"...\", \"detail\": \"...\"}}\n",
    "def state_handler(machine, state, request_data, context, state_responses_of_machine):\n",
    "    # do workflow here\n",
    "    return {\"success\": True, \"goto\": \"10370006\"}\n"
   ]
  },
  {
   "cell_type": "markdown",
   "metadata": {},
   "source": [
    "#### 5e. İş Mantığı"
   ]
  },
  {
   "cell_type": "code",
   "execution_count": null,
   "metadata": {},
   "outputs": [
    {
     "data": {
      "text/plain": [
       "'http://thor-stage.edas1.com/host/v1//md/search/{assetId}'"
      ]
     },
     "metadata": {},
     "output_type": "display_data"
    }
   ],
   "source": [
    "\"\"\"http://thor-stage.edas1.com/host/v1//md/search/{assetId}\"\"\"##URL is  not defined"
   ]
  },
  {
   "cell_type": "markdown",
   "metadata": {},
   "source": [
    "## Step 6: Create New Account\n",
    "- **State Number**: 6\n",
    "- **State Code**: 10370006\n",
    "- **State Name**: Create New Account\n",
    "- **Description**: An account is created to link with the new contract. It is defined using the same attribute values as the existing account, with the validity date set to the account creation date.\n",
    "- **Status** : Pending"
   ]
  },
  {
   "cell_type": "markdown",
   "metadata": {},
   "source": [
    "#### 6a. Çalışma Öncesi Scripti"
   ]
  },
  {
   "cell_type": "code",
   "execution_count": null,
   "metadata": {},
   "outputs": [],
   "source": [
    "#Yok"
   ]
  },
  {
   "cell_type": "markdown",
   "metadata": {},
   "source": [
    "#### 6b. İstek Eşleştirme Scripti "
   ]
  },
  {
   "cell_type": "code",
   "execution_count": null,
   "metadata": {},
   "outputs": [],
   "source": [
    "# machine              : Currently executing machine instance\n",
    "# state                : Currently executing state instance\n",
    "# request_data         : Original trigger data\n",
    "# context              : Machine stored context\n",
    "# prev_state_response  : Previous executed state business logic response\n",
    "# return\n",
    "#     json result of business/mapping\n",
    "import json\n",
    "from datetime import datetime\n",
    "\n",
    "def state_handler(machine, state, request_data, context, state_responses_of_machine):\n",
    "    \n",
    "\n",
    "    current_date = datetime.now().strftime('%Y%m%d%H%M%S')    #accountCreateDate = next((attr for attr in prev_state_response['attributes'] if attr['attribute']['attributeCode'] == 'CreateDate'),None)['value']\n",
    "\n",
    "    deletelist = ['AssetIdentifier']\n",
    "    \n",
    "\n",
    "\n",
    "    copied_json = {}\n",
    "    stack = [(copied_json, state_responses_of_machine['10370006-1']['businessLogicResponse'])]\n",
    "\n",
    "    # Copy context to copied_json without id\n",
    "    while stack:\n",
    "        current_copied, current_original = stack.pop()\n",
    "\n",
    "        for key, value in current_original.items():\n",
    "            if key != 'id':\n",
    "                if isinstance(value, list):\n",
    "                    new_list = []\n",
    "                    for item in value:\n",
    "                        if isinstance(item, dict):\n",
    "                            new_item = {}\n",
    "                            new_list.append(new_item)\n",
    "                            stack.append((new_item, item))\n",
    "                        else:\n",
    "                            new_list.append(item)\n",
    "                    current_copied[key] = new_list\n",
    "                elif isinstance(value, dict):\n",
    "                    new_dict = {}\n",
    "                    current_copied[key] = new_dict\n",
    "                    stack.append((new_dict, value))\n",
    "                else:\n",
    "                    current_copied[key] = value\n",
    "\n",
    "    for attr in copied_json['attributes']:\n",
    "        if attr['attribute']['attributeCode']=='ExpiryDate':\n",
    "            attr['value'] = current_date\n",
    "\n",
    "    copied_json['attributes'] = [attr for attr in copied_json['attributes'] if attr['attribute']['attributeCode'] not in deletelist]\n",
    "\n",
    "    \n",
    "    \n",
    "    return copied_json\n"
   ]
  },
  {
   "cell_type": "markdown",
   "metadata": {},
   "source": [
    "#### 6c. State Context Değer Tutma Scripti"
   ]
  },
  {
   "cell_type": "code",
   "execution_count": null,
   "metadata": {},
   "outputs": [],
   "source": [
    "# machine           : Currently executing machine instance\n",
    "# state             : Currently executing state instance\n",
    "# source            : Original trigger data\n",
    "# context           : Machine stored context\n",
    "# prevStateResponse : Previous executed state business logic response\n",
    "# return\n",
    "#     store dictionary  \n",
    "def state_handler(machine, state, request_data, context, state_responses_of_machine):\n",
    "    newAccountId = state_responses_of_machine['10340007']['businessLogicResponse']['id'] \n",
    "    store = {'NewAccountId' : newAccountId}\n",
    "    return store\n"
   ]
  },
  {
   "cell_type": "markdown",
   "metadata": {},
   "source": [
    "#### 6d. Çalışma Sonrası Scripti"
   ]
  },
  {
   "cell_type": "code",
   "execution_count": null,
   "metadata": {},
   "outputs": [],
   "source": [
    "# machine                 : Currently executing machine instance\n",
    "# state                   : Currently executing state instance\n",
    "# request_data            : Original trigger data\n",
    "# context                 : Machine stored context\n",
    "# prev_state_response     : Previous executed state business logic response\n",
    "# current_state_response  : Currently executed state business logic response\n",
    "# return\n",
    "#     {\"success\": True, \"goto\": \"STATE_CODE\"}\n",
    "#     {\"success\": False, \"error\": {\"code\": \"...\", \"detail\": \"...\"}}\n",
    "def state_handler(machine, state, request_data, context, state_responses_of_machine):\n",
    "    # do workflow here\n",
    "    return {\"success\": True, \"goto\": \"10370007\"}\n"
   ]
  },
  {
   "cell_type": "markdown",
   "metadata": {},
   "source": [
    "#### 6e. İş Mantığı"
   ]
  },
  {
   "cell_type": "code",
   "execution_count": null,
   "metadata": {},
   "outputs": [
    {
     "data": {
      "text/plain": [
       "'http://thor-stage.edas1.com/host/v1//account/create'"
      ]
     },
     "metadata": {},
     "output_type": "display_data"
    }
   ],
   "source": [
    "\"\"\"http://thor-stage.edas1.com/host/v1//account/create\"\"\"\n"
   ]
  },
  {
   "cell_type": "markdown",
   "metadata": {},
   "source": [
    "## Step 7: Creation of New Contract\n",
    "- **State Number**: 7\n",
    "- **State Code**: 10370007\n",
    "- **State Name**: Creation of New Contract\n",
    "- **Description**: A new contract is created with the new contract power information. The same attributes as the existing contract are used to create a double term contract."
   ]
  },
  {
   "cell_type": "markdown",
   "metadata": {},
   "source": [
    "#### 7a. Çalışma Öncesi Scripti"
   ]
  },
  {
   "cell_type": "code",
   "execution_count": null,
   "metadata": {},
   "outputs": [],
   "source": [
    "#Yok"
   ]
  },
  {
   "cell_type": "markdown",
   "metadata": {},
   "source": [
    "#### 7b. İstek Eşleştirme Scripti"
   ]
  },
  {
   "cell_type": "code",
   "execution_count": null,
   "metadata": {},
   "outputs": [],
   "source": [
    "# machine              : Currently executing machine instance\n",
    "# state                : Currently executing state instance\n",
    "# request_data         : Original trigger data\n",
    "# context              : Machine stored context\n",
    "# prev_state_response  : Previous executed state business logic response\n",
    "# return\n",
    "#     json result of business/mapping\n",
    "\n",
    "import json\n",
    "\n",
    "def state_handler(machine, state, request_data, context, state_responses_of_machine):\n",
    "    attribute_codes = ['ServicePointId', 'BusinessPartnerId', 'AccountId']\n",
    "    json_parts = []\n",
    "\n",
    "    for code in attribute_codes:\n",
    "        value = None  # Default value\n",
    "        \n",
    "        for attr in request_data['attributes']:\n",
    "            if attr['attribute']['attributeCode'] == code:\n",
    "                value = attr['value']\n",
    "                if value is None and attr['values']:\n",
    "                    value = attr['values'][0]['value']  # Get value from values if available\n",
    "                break\n",
    "        \n",
    "        json_parts.append(f'\"{code}\": {json.dumps(value)}')  # Create JSON key-value pairs\n",
    "    \n",
    "    json_output = '{' + ', '.join(json_parts) + '}'\n",
    "    return json_output  # Return the JSON \n",
    "\n"
   ]
  },
  {
   "cell_type": "markdown",
   "metadata": {},
   "source": [
    "##### 7b. İstek Eşleştirme Scripti- Olması gereken(!1)"
   ]
  },
  {
   "cell_type": "code",
   "execution_count": 1,
   "metadata": {},
   "outputs": [],
   "source": [
    "from datetime import datetime\n",
    "import json\n",
    "def state_handler(machine, state, request_data, context, state_responses_of_machine):\n",
    "    # Not recursive \n",
    "    current_date = datetime.now().strftime('%Y%m%d%H%M%S') \n",
    "    newContractPower  = request_data['NewContractPower']\n",
    "    \n",
    "    \n",
    "    changes_dict = {'ContractPower':newContractPower,\n",
    "                     'ContractAccountId': context['accountInfo']['id'] }\n",
    "    \n",
    "    copied_json = {}\n",
    "    stack = [(copied_json, request_data)]\n",
    "    \n",
    "    # Copy context to copied_json without id\n",
    "    while stack:\n",
    "        current_copied, current_original = stack.pop()\n",
    "\n",
    "        for key, value in current_original.items():\n",
    "            if key != 'id':\n",
    "                if isinstance(value, list):\n",
    "                    new_list = []\n",
    "                    for item in value:\n",
    "                        if isinstance(item, dict):\n",
    "                            new_item = {}\n",
    "                            new_list.append(new_item)\n",
    "                            stack.append((new_item, item))\n",
    "                        else:\n",
    "                            new_list.append(item)\n",
    "                    current_copied[key] = new_list\n",
    "                elif isinstance(value, dict):\n",
    "                    new_dict = {}\n",
    "                    current_copied[key] = new_dict\n",
    "                    stack.append((new_dict, value))\n",
    "                else:\n",
    "                    current_copied[key] = value\n",
    "\n",
    "    # Set dates for all values in copied_json\n",
    "    for key, value in copied_json.items():\n",
    "        if isinstance(value, list):\n",
    "            for item in value:\n",
    "                if isinstance(item, dict):\n",
    "                    if item.get('value') is None and 'values' in item and item['values']:\n",
    "                        item['values'][0]['startDate'] = current_date\n",
    "                        item['values'][0]['endDate'] = 99991231235959\n",
    "                    elif item.get('value') is not None:\n",
    "                        item['startDate'] = current_date\n",
    "                        item['endDate'] = 99991231235959\n",
    "        elif isinstance(value, dict):\n",
    "            if value.get('value') is None and 'values' in value and value['values']:\n",
    "                value['values'][0]['startDate'] = current_date\n",
    "                value['values'][0]['endDate'] = 99991231235959\n",
    "            elif value.get('value') is not None:\n",
    "                value['startDate'] = current_date\n",
    "                value['endDate'] = 99991231235959\n",
    "\n",
    "    # Update attribute values in context according to the dict above\n",
    "    for code, new_value in changes_dict.items():\n",
    "        for attr in copied_json.get('attributes', []):\n",
    "            if attr['attribute']['attributeCode'] == code:\n",
    "                if attr['value'] is None:\n",
    "                    attr['values'][0]['value'] = new_value\n",
    "                    attr['values'][0]['valueDesc'] = None\n",
    "                else:\n",
    "                    attr['valueDesc'] = None\n",
    "                    attr['value'] = new_value\n",
    "\n",
    "    return {\"body\":copied_json}  "
   ]
  },
  {
   "cell_type": "markdown",
   "metadata": {},
   "source": [
    "#### 7c. State Context Değer Tutma Scripti"
   ]
  },
  {
   "cell_type": "code",
   "execution_count": null,
   "metadata": {},
   "outputs": [],
   "source": [
    "# machine              : Currently executing machine instance\n",
    "# state                : Currently executing state instance\n",
    "# request_data         : Original trigger data\n",
    "# context              : Machine stored context\n",
    "# prev_state_response  : Previous executed state business logic response\n",
    "# return\n",
    "#     json result of business/mapping\n",
    "\n",
    "import json\n",
    "\n",
    "def state_handler(machine, state, request_data, context, state_responses_of_machine):\n",
    "    current_state_response = state_responses_of_machine\n",
    "    ContractId = current_state_response['id']\n",
    "\n",
    "    store = {'NewContractId':ContractId}\n",
    "    return store"
   ]
  },
  {
   "cell_type": "markdown",
   "metadata": {},
   "source": [
    "##### 7d. Çalışma Sonrası Scripti"
   ]
  },
  {
   "cell_type": "code",
   "execution_count": null,
   "metadata": {},
   "outputs": [],
   "source": [
    "# machine                 : Currently executing machine instance\n",
    "# state                   : Currently executing state instance\n",
    "# request_data            : Original trigger data\n",
    "# context                 : Machine stored context\n",
    "# prev_state_response     : Previous executed state business logic response\n",
    "# current_state_response  : Currently executed state business logic response\n",
    "# return\n",
    "#     {\"success\": True, \"goto\": \"STATE_CODE\"}\n",
    "#     {\"success\": False, \"error\": {\"code\": \"...\", \"detail\": \"...\"}}\n",
    "def state_handler(machine, state, request_data, context, state_responses_of_machine):\n",
    "        # do workflow here\n",
    "    return {\"success\": True, \"goto\": \"END\"}\n"
   ]
  },
  {
   "cell_type": "markdown",
   "metadata": {},
   "source": [
    "#### 7e. İş Mantığı"
   ]
  },
  {
   "cell_type": "code",
   "execution_count": null,
   "metadata": {},
   "outputs": [
    {
     "data": {
      "text/plain": [
       "'http://thor-stage.edas1.com/host/v1//contract/create'"
      ]
     },
     "metadata": {},
     "output_type": "display_data"
    }
   ],
   "source": [
    "\"\"\"http://thor-stage.edas1.com/host/v1//contract/create\"\"\""
   ]
  }
 ],
 "metadata": {
  "kernelspec": {
   "display_name": "Python 3",
   "language": "python",
   "name": "python3"
  },
  "language_info": {
   "codemirror_mode": {
    "name": "ipython",
    "version": 3
   },
   "file_extension": ".py",
   "mimetype": "text/x-python",
   "name": "python",
   "nbconvert_exporter": "python",
   "pygments_lexer": "ipython3",
   "version": "3.12.3"
  }
 },
 "nbformat": 4,
 "nbformat_minor": 2
}
