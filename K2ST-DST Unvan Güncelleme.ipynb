{
 "cells": [
  {
   "cell_type": "markdown",
   "metadata": {},
   "source": [
    "# K2ST DST Unvan Güncelleme"
   ]
  },
  {
   "cell_type": "markdown",
   "metadata": {},
   "source": [
    "## Step 1: Epiaş Subscriber List Title Checked\n",
    "- **State Number**: 2\n",
    "- **State Code**: \n",
    "- **State Name**: Epiaş Subscriber List Title Checked\n",
    "- **Description**: This state checks if the addressee(Muhatap) in the system matches the addressee(Muhatap) from the subscriber list pulled from Epiaş. If they match, the process continues to the next state; if not, it moves to the next state in the sequence.\n",
    "- **Status**: Pending"
   ]
  },
  {
   "cell_type": "markdown",
   "metadata": {},
   "source": [
    "## Step 2: Fetch the Updated addressee(Muhatap) from Epiaş Subscriber List\n",
    "- **State Number**: 2\n",
    "- **State Code**: -\n",
    "- **State Name**: Fetch the Updated addressee(Muhatap) from Epiaş Subscriber List\n",
    "- **Description**: The most recent \taddressee(Muhatap) information from the Epiaş subscriber list is retrieved. This updated addressee(Muhatap) will replace the current \taddressee(Muhatap) in the system, identified by BusinessPartnerId.\n",
    "- **Status**: Pending"
   ]
  },
  {
   "cell_type": "markdown",
   "metadata": {},
   "source": [
    "## Step 3: Accrual Created\n",
    "- **State Number**: 3\n",
    "- **State Code**: -\n",
    "- **State Name**: Accrual Created\n",
    "- **Description**: After the machine runs, the first accrual related to the contract will be generated. The process waits for the creation of this accrual by listening to an event (e.g., Kafka message). Once the accrual is created, the process moves to the next state.\n",
    "- **Status**: Pending"
   ]
  },
  {
   "cell_type": "markdown",
   "metadata": {},
   "source": [
    "## Step 4: Contract Terminated\n",
    "- **State Number**: 4\n",
    "- **State Code**: -\n",
    "- **State Name**: Contract Terminated\n",
    "- **Description**: Ensures the termination of the contract linked to the current \taddressee(Muhatap) and active account. If the \taddressee(Muhatap) matches the updated \taddressee(Muhatap) from Epiaş, the process proceeds to the next state. If not, it moves to the next state.\n",
    "- **Status**: Pending"
   ]
  },
  {
   "cell_type": "markdown",
   "metadata": {},
   "source": [
    "#### 4a. Çalışma Öncesi Scripti"
   ]
  },
  {
   "cell_type": "code",
   "execution_count": 6,
   "metadata": {},
   "outputs": [],
   "source": [
    "import json\n",
    "with open ('trigger_request.json') as f:\n",
    "    request_data = json.load(f)"
   ]
  },
  {
   "cell_type": "code",
   "execution_count": null,
   "metadata": {},
   "outputs": [],
   "source": [
    "def state_handler(machine, state, request_data, context, state_responses_of_machine):\n",
    "    cancelDate = next((attr['value'] for attr in request_data['attributes'] if attr['attribute']['attributeCode']=='ContractCancellationDate'),None)\n",
    "    if cancelDate != 99991231000000:\n",
    "        return {\"success\": True, \"error\": {\"code\": \"END\", \"detail\": \"Sözleşme Aktif Değil\"}} \n",
    "\n",
    "state_handler(None,None,request_data,None,None)"
   ]
  },
  {
   "cell_type": "markdown",
   "metadata": {},
   "source": [
    "#### 4b. İstek Eşleştirme Scripti "
   ]
  },
  {
   "cell_type": "code",
   "execution_count": null,
   "metadata": {},
   "outputs": [],
   "source": [
    "# machine              : Currently executing machine instance\n",
    "# state                : Currently executing state instance\n",
    "# request_data         : Original trigger data\n",
    "# context              : Machine stored context\n",
    "# prev_state_response  : Previous executed state business logic response\n",
    "# return\n",
    "#     json result of business/mapping\n",
    "import json\n",
    "from datetime import datetime\n",
    "def state_handler(machine, state, request_data, context, state_responses_of_machine) :\n",
    "    current_date = datetime.now().strftime('%Y%m%d%H%M%S')\n",
    "    attributes_dict = {\n",
    "        \"ContractCancellationDate\": current_date,\n",
    "        \"ContractCancellationRequestDate\": current_date,\n",
    "        \"ContractCancellationReason\": \"SubscriberRequest\",\n",
    "        \"ContractNumber\": context['ContractNumber']\n",
    "    }\n",
    "\n",
    "    cancellation_data = {\n",
    "        \"id\": request_data.get(\"id\"),\n",
    "        \"attributes\": [\n",
    "            {\n",
    "                \"attribute\": {\n",
    "                    \"attributeCode\": code\n",
    "                },\n",
    "                \"value\": value\n",
    "            } for code, value in attributes_dict.items()\n",
    "        ],\n",
    "        \"authorityGroup\": request_data.get(\"authorityGroup\"),\n",
    "        \"contractLockID\": \"string\"  #\n",
    "    }\n",
    "    \n",
    "    return {\"body\" : cancellation_data}"
   ]
  },
  {
   "cell_type": "markdown",
   "metadata": {},
   "source": [
    "#### 4c. State Context Değer Tutma Scripti"
   ]
  },
  {
   "cell_type": "code",
   "execution_count": null,
   "metadata": {},
   "outputs": [],
   "source": [
    "## Yok"
   ]
  },
  {
   "cell_type": "markdown",
   "metadata": {},
   "source": [
    "#### 4d. Çalışma Sonrası Scripti"
   ]
  },
  {
   "cell_type": "code",
   "execution_count": null,
   "metadata": {},
   "outputs": [],
   "source": [
    "# machine                 : Currently executing machine instance\n",
    "# state                   : Currently executing state instance\n",
    "# request_data            : Original trigger data\n",
    "# context                 : Machine stored context\n",
    "# prev_state_response     : Previous executed state business logic response\n",
    "# current_state_response  : Currently executed state business logic response\n",
    "# return\n",
    "#     {\"success\": True, \"goto\": \"STATE_CODE\"}\n",
    "#     {\"success\": False, \"error\": {\"code\": \"...\", \"detail\": \"...\"}}\n",
    "def state_handler(machine, state, request_data, context, state_responses_of_machine):\n",
    "    # do workflow here\n",
    "    return {\"success\": True, \"goto\": \"STATE\"}\n"
   ]
  },
  {
   "cell_type": "markdown",
   "metadata": {},
   "source": [
    "## Step 5: New \taddressee(Muhatap) Created\n",
    "- **State Number**: 5\n",
    "- **State Code**: -\n",
    "- **State Name**: New \taddressee(Muhatap) Created\n",
    "- **Description**: A new \taddressee(Muhatap) is created if the current \taddressee(Muhatap) does not match the updated \taddressee(Muhatap). The process involves sending the necessary attributes to create a new BusinessPartner entry in the system.\n",
    "- **Status**: Pending"
   ]
  },
  {
   "cell_type": "markdown",
   "metadata": {},
   "source": [
    "#### 5a. Çalışma Öncesi Scripti"
   ]
  },
  {
   "cell_type": "markdown",
   "metadata": {},
   "source": [
    "#### 5b. İstek Eşleştirme Scripti"
   ]
  },
  {
   "cell_type": "code",
   "execution_count": null,
   "metadata": {},
   "outputs": [],
   "source": [
    "# machine                 : Currently executing machine instance\n",
    "# state                   : Currently executing state instance\n",
    "# request_data            : Original trigger data\n",
    "# context                 : Machine stored context\n",
    "# prev_state_response     : Previous executed state business logic response\n",
    "# current_state_response  : Currently executed state business logic response\n",
    "# return\n",
    "#     {\"success\": True, \"goto\": \"STATE_CODE\"}\n",
    "#     {\"success\": False, \"error\": {\"code\": \"...\", \"detail\": \"...\"}}\n",
    "def state_handler(machine, state, request_data, context, state_response_of_machine):\n",
    "    # do workflow here\n",
    "    return {context['businessPartnerinfo']}\n"
   ]
  },
  {
   "cell_type": "markdown",
   "metadata": {},
   "source": [
    "#### 5c. State Context Değer Tutma Scripti"
   ]
  },
  {
   "cell_type": "code",
   "execution_count": null,
   "metadata": {},
   "outputs": [],
   "source": [
    "# machine           : Currently executing machine instance\n",
    "# state             : Currently executing state instance\n",
    "# source            : Original trigger data\n",
    "# context           : Machine stored context\n",
    "# prevStateResponse : Previous executed state business logic response\n",
    "# return\n",
    "#     store dictionary  \n",
    "def state_handler(machine, state, request_data, context, state_response_of_machine):\n",
    "    store = {'businesspartnerId' : state_response_of_machine['id']}\n",
    "    return store\n",
    "\n"
   ]
  },
  {
   "cell_type": "markdown",
   "metadata": {},
   "source": [
    "#### 5d. Çalışma Sonrası Scripti "
   ]
  },
  {
   "cell_type": "code",
   "execution_count": 4,
   "metadata": {},
   "outputs": [],
   "source": [
    "# machine                 : Currently executing machine instance\n",
    "# state                   : Currently executing state instance\n",
    "# request_data            : Original trigger data\n",
    "# context                 : Machine stored context\n",
    "# prev_state_response     : Previous executed state business logic response\n",
    "# current_state_response  : Currently executed state business logic response\n",
    "# return\n",
    "#     {\"success\": True, \"goto\": \"STATE_CODE\"}\n",
    "#     {\"success\": False, \"error\": {\"code\": \"...\", \"detail\": \"...\"}}\n",
    "def state_handler(machine, state, request_data, context, prev_state_response, current_state_response):\n",
    "    # do workflow here\n",
    "    return {\"success\": True, \"goto\": \"State\"}\n"
   ]
  },
  {
   "cell_type": "markdown",
   "metadata": {},
   "source": [
    "#### 5e. İş Mantığı"
   ]
  },
  {
   "cell_type": "code",
   "execution_count": 5,
   "metadata": {},
   "outputs": [
    {
     "data": {
      "text/plain": [
       "'http://thor-stage.edas1.com/host/v1//md/save'"
      ]
     },
     "execution_count": 5,
     "metadata": {},
     "output_type": "execute_result"
    }
   ],
   "source": [
    "\"\"\"http://thor-stage.edas1.com/host/v1//md/save\"\"\"##URL is  not defined"
   ]
  },
  {
   "cell_type": "markdown",
   "metadata": {},
   "source": [
    "## Step 6: Existing addressee(Muhatap) Retrieved\n",
    "- **State Number**: 6\n",
    "- **State Code**: -\n",
    "- **State Name**: Existing addressee(Muhatap) Retrieved\n",
    "- **Description**: The system retrieves the existing addressee(Muhatap) based on the provided BusinessPartnerId. After the addressee(Muhatap) information is retrieved, the process moves to the next state.\n",
    "- **Status**: Pending"
   ]
  },
  {
   "cell_type": "markdown",
   "metadata": {},
   "source": []
  }
 ],
 "metadata": {
  "kernelspec": {
   "display_name": "Python 3",
   "language": "python",
   "name": "python3"
  },
  "language_info": {
   "codemirror_mode": {
    "name": "ipython",
    "version": 3
   },
   "file_extension": ".py",
   "mimetype": "text/x-python",
   "name": "python",
   "nbconvert_exporter": "python",
   "pygments_lexer": "ipython3",
   "version": "3.12.3"
  }
 },
 "nbformat": 4,
 "nbformat_minor": 2
}
