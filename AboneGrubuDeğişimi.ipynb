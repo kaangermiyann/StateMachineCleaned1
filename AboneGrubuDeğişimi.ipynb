{
 "cells": [
  {
   "cell_type": "markdown",
   "metadata": {},
   "source": [
    "## Step 1: Start State\n",
    "- **State Number**: 1\n",
    "- **State Code**: \n",
    "- **State Name**: Start State\n",
    "- **Description**: The process begins here when the machine is triggered. All attributes of the contract and the new subscriber group are gathered to determine the next state.\n",
    "- **Status**: Pending\n"
   ]
  },
  {
   "cell_type": "markdown",
   "metadata": {},
   "source": [
    "## Step 2: K2 DST Subscriber Group Change Initiated - Change Process Control\n",
    "- **State Number**: 2\n",
    "- **State Code**: \n",
    "- **State Name**: K2 DST Subscriber Group Change Initiated - Change Process Control\n",
    "- **Description**: This state performs the necessary checks related to the contract and installation. The change process is initiated here.\n",
    "- **Status**: Pending\n",
    "\n"
   ]
  },
  {
   "cell_type": "markdown",
   "metadata": {},
   "source": [
    "#### 2A - Çalışma Öncesi Scripti"
   ]
  },
  {
   "cell_type": "markdown",
   "metadata": {},
   "source": [
    "#### 2B - İstek Eşleştirme Scripti"
   ]
  },
  {
   "cell_type": "code",
   "execution_count": null,
   "metadata": {},
   "outputs": [],
   "source": [
    "# machine              : Currently executing machine instance\n",
    "# state                : Currently executing state instance\n",
    "# request_data         : Original trigger data\n",
    "# context              : Machine stored context\n",
    "# prev_state_response  : Previous executed state business logic response\n",
    "# return\n",
    "#     json result of business/mapping\n",
    "def state_handler(machine, state, request_data, context, state_responses_of_machine):\n",
    "    # do business/mapping here\n",
    "    return {\"body\": {}, \"params\": {\"assetId\":str(request_data[\"id\"])}}\n"
   ]
  },
  {
   "cell_type": "markdown",
   "metadata": {},
   "source": [
    "#### 2C - State Context Değer Tutma Scripti"
   ]
  },
  {
   "cell_type": "code",
   "execution_count": null,
   "metadata": {},
   "outputs": [],
   "source": [
    "# machine           : Currently executing machine instance\n",
    "# state             : Currently executing state instance\n",
    "# source            : Original trigger data\n",
    "# context           : Machine stored context\n",
    "# prevStateResponse : Previous executed state business logic response\n",
    "# return\n",
    "#     store dictionary\n",
    "def state_handler(machine, state, request_data, context, state_responses_of_machine):\n",
    "    store = {}\n",
    "    \n",
    "    attribute_codes = ['ServicePointId', 'ContractAccountId']\n",
    "    \n",
    "    for code in attribute_codes:\n",
    "        for attr in request_data['attributes']:\n",
    "            if attr['attribute']['attributeCode'] == code:\n",
    "                value = attr['value']\n",
    "                if value is None and attr['values']:\n",
    "                    value = attr['values'][0]['value']  # values içindeki value al\n",
    "                store[code] = value\n",
    "                break\n",
    "        else:\n",
    "            store[code] = None  # Eğer bulunamazsa None döner\n",
    "    return store"
   ]
  },
  {
   "cell_type": "markdown",
   "metadata": {},
   "source": [
    "#### 2D - Çalışma Sonrası Scripti"
   ]
  },
  {
   "cell_type": "code",
   "execution_count": 1,
   "metadata": {},
   "outputs": [],
   "source": [
    "# machine                     : Currently executing machine instance\n",
    "\n",
    "# state                       : Currently executing state instance\n",
    "\n",
    "# request_data                : Original trigger data\n",
    "\n",
    "# context                     : Machine stored context\n",
    "\n",
    "# state_responses_of_machine  : State responses of Machine <StateCode, {prev, businessLogic, webhook}>\n",
    "\n",
    "# return\n",
    "\n",
    "#     {\"success\": True, \"goto\": \"STATE_CODE\"}\n",
    "\n",
    "#     {\"success\": False, \"error\": {\"code\": \"...\", \"detail\": \"...\"}}\n",
    "\n",
    "def state_handler(machine, state, request_data, context, state_responses_of_machine):\n",
    "\n",
    "    contract_status=False\n",
    "\n",
    "    energy_status=False\n",
    "\n",
    "    code = state['stateDefinition']['stateCode']\n",
    "\n",
    "    prev_state_response = state_responses_of_machine[code]['businessLogicResponseOfPreviousState']\n",
    " \n",
    "    for attr in request_data['attributes']:\n",
    "\n",
    "        if attr['attribute']['attributeCode'] == 'ContractCancellationDate' and attr['value'] == 99991231235959:\n",
    "\n",
    "            contract_status=True\n",
    " \n",
    "    for attr in prev_state_response['attributes']:\n",
    "\n",
    "            if attr['attribute']['attributeCode'] == 'EnergyStatus' and attr['value'] == 'OPEN':\n",
    "\n",
    "                energy_status=True\n",
    "\n",
    "    if contract_status and energy_status:\n",
    "\n",
    "        return {\"success\": True, \"goto\": \"10380003\"}\n",
    "\n",
    "    if contract_status and energy_status == False:\n",
    "\n",
    "        return {\"success\": True, \"goto\": \"10380004\"}\n",
    "\n",
    "    # do workflow here\n",
    "\n",
    "    return {\"success\": True, \"goto\": \"END\"}\n",
    " "
   ]
  },
  {
   "cell_type": "markdown",
   "metadata": {},
   "source": [
    "#### 2E - İş mantığı"
   ]
  },
  {
   "cell_type": "code",
   "execution_count": null,
   "metadata": {},
   "outputs": [],
   "source": [
    "\"\"\"md/search\"\"\""
   ]
  },
  {
   "cell_type": "markdown",
   "metadata": {},
   "source": [
    "## Step 3: Period Invoice Creation\n",
    "- **State Number**: 3\n",
    "- **State Code**: \n",
    "- **State Name**: Period Invoice Creation\n",
    "- **Description**: A period invoice is created based on the first period reading. This step awaits a Kafka event (`thor-billing-accrual-created`) for the invoice creation.\n",
    "- **Status**: Pending\n"
   ]
  },
  {
   "cell_type": "markdown",
   "metadata": {},
   "source": [
    "## Step 4: Contract Termination\n",
    "- **State Number**: 4\n",
    "- **State Code**: \n",
    "- **State Name**: Contract Termination\n",
    "- **Description**: After the period invoice is created, the contract is terminated. Historical date attributes are set according to the invoice creation date.\n",
    "- **Status**: Pending\n"
   ]
  },
  {
   "cell_type": "markdown",
   "metadata": {},
   "source": [
    "#### 4A - Çalışma Öncesi Scripti"
   ]
  },
  {
   "cell_type": "code",
   "execution_count": null,
   "metadata": {},
   "outputs": [],
   "source": [
    "def state_handler(machine, state, request_data, context, state_responses_of_machine):\n",
    "    return {}"
   ]
  },
  {
   "cell_type": "markdown",
   "metadata": {},
   "source": [
    "#### 4B - İstek Eşleştirme Scripti"
   ]
  },
  {
   "cell_type": "code",
   "execution_count": null,
   "metadata": {},
   "outputs": [],
   "source": [
    "# machine              : Currently executing machine instance\n",
    "# state                : Currently executing state instance\n",
    "# request_data         : Original trigger data\n",
    "# context              : Machine stored context\n",
    "# prev_state_response  : Previous executed state business logic response\n",
    "# return\n",
    "#     json result of business/mapping\n",
    "import json\n",
    "from datetime import datetime\n",
    "\n",
    "def state_handler(machine, state, request_data, context, state_responses_of_machine):\n",
    "    \n",
    "    current_date = datetime.now().strftime('%Y%m%d%H%M%S') \n",
    "    \n",
    "    data = {\n",
    "        \"id\": request_data[\"id\"],\n",
    "        \"attributes\": [\n",
    "            {\n",
    "                \"attribute\": {\n",
    "                    \"attributeCode\": \"ContractCancellationDate\"\n",
    "                },\n",
    "                \"value\":current_date\n",
    "            },\n",
    "            {\n",
    "                \"attribute\": {\n",
    "                    \"attributeCode\": \"ContractCancellationRequestDate\"\n",
    "                },\n",
    "                \"value\": current_date\n",
    "            },\n",
    "            {\n",
    "                \"attribute\": {\n",
    "                    \"attributeCode\": \"ContractCancellationReason\"\n",
    "                },\n",
    "                \"value\": \"SubscriberRequest\"  \n",
    "            },\n",
    "            {\n",
    "                \"attribute\": {\n",
    "                    \"attributeCode\": \"ContractNumber\"\n",
    "                },\n",
    "                \"value\": next((attr['value'] for attr in request_data['attributes'] \n",
    "                               if attr['attribute']['attributeCode'] == \"ContractNumber\"), None)\n",
    "            }\n",
    "        ],\n",
    "        \"authorityGroup\": request_data[\"authorityGroup\"],\n",
    "        \"contractLockID\": \"string\"  \n",
    "    }\n",
    "    \n",
    "    return {\"body\": data}\n"
   ]
  },
  {
   "cell_type": "markdown",
   "metadata": {},
   "source": [
    "#### 4C - State Context Değer Tutma Scripti"
   ]
  },
  {
   "cell_type": "code",
   "execution_count": 1,
   "metadata": {},
   "outputs": [],
   "source": [
    "# machine                 : Currently executing machine instance\n",
    "# state                   : Currently executing state instance\n",
    "# request_data            : Original trigger data\n",
    "# context                 : Machine stored context\n",
    "# prev_state_response     : Previous executed state business logic response\n",
    "# current_state_response  : Currently executed state business logic response\n",
    "# return\n",
    "#     {\"success\": True, \"goto\": \"STATE_CODE\"}\n",
    "#     {\"success\": False, \"error\": {\"code\": \"...\", \"detail\": \"...\"}}\n",
    "def state_handler(machine, state, request_data, context, state_responses_of_machine):\n",
    "    store = {}\n",
    "    return store\n"
   ]
  },
  {
   "cell_type": "markdown",
   "metadata": {},
   "source": [
    "#### 4D - Çalışma Sonrası Scripti"
   ]
  },
  {
   "cell_type": "code",
   "execution_count": null,
   "metadata": {},
   "outputs": [],
   "source": [
    "# machine                 : Currently executing machine instance\n",
    "# state                   : Currently executing state instance\n",
    "# request_data            : Original trigger data\n",
    "# context                 : Machine stored context\n",
    "# prev_state_response     : Previous executed state business logic response\n",
    "# current_state_response  : Currently executed state business logic response\n",
    "# return\n",
    "#     {\"success\": True, \"goto\": \"STATE_CODE\"}\n",
    "#     {\"success\": False, \"error\": {\"code\": \"...\", \"detail\": \"...\"}}\n",
    "def state_handler(machine, state, request_data, context, state_responses_of_machine):\n",
    "    # do workflow here\n",
    "    return {\"success\": True, \"goto\": \"  \"}\n"
   ]
  },
  {
   "cell_type": "markdown",
   "metadata": {},
   "source": [
    "## Step 5: Closure Accrual Creation\n",
    "- **State Number**: 5\n",
    "- **State Code**: \n",
    "- **State Name**: Closure Accrual Creation\n",
    "- **Description**: A closure accrual invoice is generated for the terminated contract. This step is done using the `/accruals/calculate` service.\n",
    "- **Status**: Pending\n"
   ]
  },
  {
   "cell_type": "markdown",
   "metadata": {},
   "source": [
    "## Step 6 -1: Data Preparation for New Account\n",
    "- **State Number**: -\n",
    "- **State Code**: -\n",
    "- **State Name**: Data Preparation for New Account\n",
    "- **Description**: This process involves preparing the necessary data for creating a new account. Relevant attributes are queried.\n",
    "- **Status**: Pending"
   ]
  },
  {
   "cell_type": "markdown",
   "metadata": {},
   "source": [
    "#### 6.1A - Çalışma Öncesi Scripti"
   ]
  },
  {
   "cell_type": "code",
   "execution_count": null,
   "metadata": {},
   "outputs": [],
   "source": [
    "# machine                     : Currently executing machine instance\n",
    "# state                       : Currently executing state instance\n",
    "# request_data                : Original trigger data\n",
    "# context                     : Machine stored context\n",
    "# state_responses_of_machine  : State responses of Machine <StateCode, {prev, businessLogic, webhook}>\n",
    "# return\n",
    "#     {\"success\": True, \"goto\": \"STATE_CODE\"}\n",
    "#     {\"success\": False, \"error\": {\"code\": \"...\", \"detail\": \"...\"}}\n",
    "def state_handler(machine, state, request_data, context, state_responses_of_machine):  \n",
    "\n",
    "    return {}"
   ]
  },
  {
   "cell_type": "markdown",
   "metadata": {},
   "source": [
    "#### 6.1B - İstek Eşleştirme Scripti"
   ]
  },
  {
   "cell_type": "code",
   "execution_count": null,
   "metadata": {},
   "outputs": [],
   "source": [
    "# machine                     : Currently executing machine instance\n",
    "# state                       : Currently executing state instance\n",
    "# request_data                : Original trigger data\n",
    "# context                     : Machine stored context\n",
    "# state_responses_of_machine  : State responses of Machine <StateCode, {prev, businessLogic, webhook}>\n",
    "# return\n",
    "#     {\"success\": True, \"goto\": \"STATE_CODE\"}\n",
    "#     {\"success\": False, \"error\": {\"code\": \"...\", \"detail\": \"...\"}}\n",
    "def state_handler(machine, state, request_data, context, state_responses_of_machine):  \n",
    "    contractAccountId = next((attr for attr in request_data['attributes'] if attr['attribute']['attributeCode']=='ContractAccountId'),None)['value']\n",
    "\n",
    "    return {\"params\": {\"assetId\":contractAccountId}}"
   ]
  },
  {
   "cell_type": "markdown",
   "metadata": {},
   "source": [
    "#### 6.1C - State Context Değer Tutma Scripti"
   ]
  },
  {
   "cell_type": "code",
   "execution_count": null,
   "metadata": {},
   "outputs": [],
   "source": [
    "# machine           : Currently executing machine instance\n",
    "# state             : Currently executing state instance\n",
    "# source            : Original trigger data\n",
    "# context           : Machine stored context\n",
    "# prevStateResponse : Previous executed state business logic response\n",
    "# return\n",
    "#     store dictionary  \n",
    "def state_handler(machine, state, request_data, context, state_response_of_machine):\n",
    "    store = {'accountInfo' : state_response_of_machine['10380006-1']['businessLogicResponse']}\n",
    "    return store"
   ]
  },
  {
   "cell_type": "markdown",
   "metadata": {},
   "source": [
    "#### 6.1D - Çalışma Sonrası Scripti"
   ]
  },
  {
   "cell_type": "code",
   "execution_count": null,
   "metadata": {},
   "outputs": [],
   "source": [
    "# machine                 : Currently executing machine instance\n",
    "# state                   : Currently executing state instance\n",
    "# request_data            : Original trigger data\n",
    "# context                 : Machine stored context\n",
    "# prev_state_response     : Previous executed state business logic response\n",
    "# current_state_response  : Currently executed state business logic response\n",
    "# return\n",
    "#     {\"success\": True, \"goto\": \"STATE_CODE\"}\n",
    "#     {\"success\": False, \"error\": {\"code\": \"...\", \"detail\": \"...\"}}\n",
    "def state_handler(machine, state, request_data, context, state_responses_of_machine):\n",
    "    # do workflow here\n",
    "    return {\"success\": True, \"goto\": \"      \"}\n"
   ]
  },
  {
   "cell_type": "markdown",
   "metadata": {},
   "source": [
    "## Step 6: Create New Account\n",
    "- **State Number**: 6\n",
    "- **State Code**: \n",
    "- **State Name**: Create New Account\n",
    "- **Description**: An account is created to link with the new contract. New account definitions are made using existing attributes.\n",
    "- **Status**: Pending\n"
   ]
  },
  {
   "cell_type": "markdown",
   "metadata": {},
   "source": [
    "#### 6A - Çalışma Öncesi Scripti"
   ]
  },
  {
   "cell_type": "code",
   "execution_count": null,
   "metadata": {},
   "outputs": [],
   "source": [
    "def state_handler(machine, state, request_data, context, state_responses_of_machine):\n",
    "    return {}"
   ]
  },
  {
   "cell_type": "markdown",
   "metadata": {},
   "source": [
    "#### 6B - İstek Eşleştirme Scripti "
   ]
  },
  {
   "cell_type": "code",
   "execution_count": null,
   "metadata": {},
   "outputs": [],
   "source": [
    "from datetime import datetime\n",
    "import json\n",
    "def state_handler(machine, state, request_data, context, state_responses_of_machine):\n",
    "    # Not recursive\n",
    "\n",
    "    deletelist = ['AssetIdentifier']\n",
    "\n",
    "    current_date = datetime.now().strftime('%Y%m%d%H%M%S') \n",
    " \n",
    "    copied_json = {}\n",
    "    stack = [(copied_json, state_responses_of_machine['   X  ']['businessLogicResponse'])]\n",
    " \n",
    "    # Copy context to copied_json without id\n",
    "    while stack:\n",
    "        current_copied, current_original = stack.pop()\n",
    " \n",
    "        for key, value in current_original.items():\n",
    "            if key != 'id':\n",
    "                if isinstance(value, list):\n",
    "                    new_list = []\n",
    "                    for item in value:\n",
    "                        if isinstance(item, dict):\n",
    "                            new_item = {}\n",
    "                            new_list.append(new_item)\n",
    "                            stack.append((new_item, item))\n",
    "                        else:\n",
    "                            new_list.append(item)\n",
    "                    current_copied[key] = new_list\n",
    "                elif isinstance(value, dict):\n",
    "                    new_dict = {}\n",
    "                    current_copied[key] = new_dict\n",
    "                    stack.append((new_dict, value))\n",
    "                else:\n",
    "                    current_copied[key] = value\n",
    " \n",
    "    # Set dates for all values in copied_json\n",
    "    for key, value in copied_json.items():\n",
    "        if isinstance(value, list):\n",
    "            for item in value:\n",
    "                if isinstance(item, dict):\n",
    "                    if item.get('value') is None and 'values' in item and item['values']:\n",
    "                        item['values'][0]['startDate'] = current_date\n",
    "                        item['values'][0]['endDate'] = 99991231235959\n",
    "                    elif item.get('value') is not None:\n",
    "                        item['startDate'] = current_date\n",
    "                        item['endDate'] = 99991231235959\n",
    "        elif isinstance(value, dict):\n",
    "            if value.get('value') is None and 'values' in value and value['values']:\n",
    "                value['values'][0]['startDate'] = current_date\n",
    "                value['values'][0]['endDate'] = 99991231235959\n",
    "            elif value.get('value') is not None:\n",
    "                value['startDate'] = current_date\n",
    "                value['endDate'] = 99991231235959\n",
    " \n",
    "   \n",
    "    for attr in copied_json['attributes']:\n",
    "        if attr['attribute']['attributeCode']=='ExpiryDate':\n",
    "            attr['value'] = current_date\n",
    "\n",
    "    copied_json['attributes'] = [attr for attr in copied_json['attributes'] if attr['attribute']['attributeCode'] not in deletelist]\n",
    "\n",
    "   \n",
    "                   \n",
    " \n",
    "    return {\"body\":copied_json}  \n",
    " \n",
    "\n",
    "\n",
    "    \n",
    "    \n"
   ]
  },
  {
   "cell_type": "markdown",
   "metadata": {},
   "source": [
    "#### 6C - State Context Değer Tutma Scripti"
   ]
  },
  {
   "cell_type": "code",
   "execution_count": null,
   "metadata": {},
   "outputs": [],
   "source": [
    "# machine           : Currently executing machine instance\n",
    "# state             : Currently executing state instance\n",
    "# source            : Original trigger data\n",
    "# context           : Machine stored context\n",
    "# prevStateResponse : Previous executed state business logic response\n",
    "# return\n",
    "#     store dictionary  \n",
    "def state_handler(machine, state, request_data, context, state_responses_of_machine):\n",
    "\n",
    "    store  = {'NewAccountId' : state_responses_of_machine[' X ']['businessLogicResponse']['id']} \n",
    "    \n",
    "    return store\n"
   ]
  },
  {
   "cell_type": "markdown",
   "metadata": {},
   "source": [
    "#### 6D - Çalışma Sonrası Scripti"
   ]
  },
  {
   "cell_type": "code",
   "execution_count": null,
   "metadata": {},
   "outputs": [],
   "source": [
    "# machine                 : Currently executing machine instance\n",
    "# state                   : Currently executing state instance\n",
    "# request_data            : Original trigger data\n",
    "# context                 : Machine stored context\n",
    "# prev_state_response     : Previous executed state business logic response\n",
    "# current_state_response  : Currently executed state business logic response\n",
    "# return\n",
    "#     {\"success\": True, \"goto\": \"STATE_CODE\"}\n",
    "#     {\"success\": False, \"error\": {\"code\": \"...\", \"detail\": \"...\"}}\n",
    "def state_handler(machine, state, request_data, context, state_responses_of_machine):\n",
    "    # do workflow here\n",
    "    return {\"success\": True, \"goto\": \"    X  \"}\n"
   ]
  },
  {
   "cell_type": "markdown",
   "metadata": {},
   "source": [
    "#### 6E - İş Mantığı"
   ]
  },
  {
   "cell_type": "code",
   "execution_count": null,
   "metadata": {},
   "outputs": [
    {
     "data": {
      "text/plain": [
       "'http://thor-stage.edas1.com/host/v1//account/create'"
      ]
     },
     "metadata": {},
     "output_type": "display_data"
    }
   ],
   "source": [
    "\"\"\"http://thor-stage.edas1.com/host/v1//account/create\"\"\"\n"
   ]
  },
  {
   "cell_type": "markdown",
   "metadata": {},
   "source": [
    "## Step 7: Create New Contract\n",
    "- **State Number**: 7\n",
    "- **State Code**: \n",
    "- **State Name**: Create New Contract\n",
    "- **Description**: A new contract is created with the new subscriber group. The system uses the same attributes from the existing contract, but the subscriber group is updated.\n",
    "- **Status**: Pending\n"
   ]
  },
  {
   "cell_type": "markdown",
   "metadata": {},
   "source": [
    "#### 7A - Çalışma Öncesi Scripti"
   ]
  },
  {
   "cell_type": "code",
   "execution_count": null,
   "metadata": {},
   "outputs": [],
   "source": [
    "#Yok"
   ]
  },
  {
   "cell_type": "markdown",
   "metadata": {},
   "source": [
    "#### 7B - İstek Eşleştirme Scripti"
   ]
  },
  {
   "cell_type": "code",
   "execution_count": null,
   "metadata": {},
   "outputs": [],
   "source": [
    "from datetime import datetime\n",
    "import json\n",
    "def state_handler(machine, state, request_data, context, state_responses_of_machine):\n",
    "    # Not recursive \n",
    "    current_date = datetime.now().strftime('%Y%m%d%H%M%S') \n",
    "    \n",
    "    \n",
    "    changes_dict = {'SubscriberGroup': request_data['NewSubscriberGroup'],\n",
    "                    'ContractAccountId': context['accountInfo']['id']\n",
    "                    }\n",
    "    \n",
    "    copied_json = {}\n",
    "    stack = [(copied_json, request_data)]\n",
    "\n",
    "    # Copy context to copied_json without id\n",
    "    while stack:\n",
    "        current_copied, current_original = stack.pop()\n",
    "\n",
    "        for key, value in current_original.items():\n",
    "            if key != 'id':\n",
    "                if isinstance(value, list):\n",
    "                    new_list = []\n",
    "                    for item in value:\n",
    "                        if isinstance(item, dict):\n",
    "                            new_item = {}\n",
    "                            new_list.append(new_item)\n",
    "                            stack.append((new_item, item))\n",
    "                        else:\n",
    "                            new_list.append(item)\n",
    "                    current_copied[key] = new_list\n",
    "                elif isinstance(value, dict):\n",
    "                    new_dict = {}\n",
    "                    current_copied[key] = new_dict\n",
    "                    stack.append((new_dict, value))\n",
    "                else:\n",
    "                    current_copied[key] = value\n",
    "\n",
    "    # Set dates for all values in copied_json\n",
    "    for key, value in copied_json.items():\n",
    "        if isinstance(value, list):\n",
    "            for item in value:\n",
    "                if isinstance(item, dict):\n",
    "                    if item.get('value') is None and 'values' in item and item['values']:\n",
    "                        item['values'][0]['startDate'] = current_date\n",
    "                        item['values'][0]['endDate'] = 99991231235959\n",
    "                    elif item.get('value') is not None:\n",
    "                        item['startDate'] = current_date\n",
    "                        item['endDate'] = 99991231235959\n",
    "        elif isinstance(value, dict):\n",
    "            if value.get('value') is None and 'values' in value and value['values']:\n",
    "                value['values'][0]['startDate'] = current_date\n",
    "                value['values'][0]['endDate'] = 99991231235959\n",
    "            elif value.get('value') is not None:\n",
    "                value['startDate'] = current_date\n",
    "                value['endDate'] = 99991231235959\n",
    "\n",
    "    # Update attribute values in context according to the dict above\n",
    "    for code, new_value in changes_dict.items():\n",
    "        for attr in copied_json.get('attributes', []):\n",
    "            if attr['attribute']['attributeCode'] == code:\n",
    "                if attr['value'] is None:\n",
    "                    attr['values'][0]['value'] = new_value\n",
    "                    attr['values'][0]['valueDesc'] = None\n",
    "                else:\n",
    "                    attr['valueDesc'] = None\n",
    "                    attr['value'] = new_value\n",
    "\n",
    "    return {\"body\":copied_json}  "
   ]
  },
  {
   "cell_type": "markdown",
   "metadata": {},
   "source": [
    "#### 7C - State Context Değer Tutma Scripti"
   ]
  },
  {
   "cell_type": "code",
   "execution_count": null,
   "metadata": {},
   "outputs": [],
   "source": [
    "# machine           : Currently executing machine instance\n",
    "# state             : Currently executing state instance\n",
    "# source            : Original trigger data\n",
    "# context           : Machine stored context\n",
    "# prevStateResponse : Previous executed state business logic response\n",
    "# return\n",
    "#     store dictionary  \n",
    "def state_handler(machine, state, request_data, context, state_responses_of_machine):\n",
    "\n",
    "    store  = {'NewContractId' : state_responses_of_machine[' X ']['businessLogicResponse']['id']} \n",
    "    \n",
    "    return store\n"
   ]
  },
  {
   "cell_type": "markdown",
   "metadata": {},
   "source": [
    "##### 7D - Çalışma Sonrası Scripti"
   ]
  },
  {
   "cell_type": "code",
   "execution_count": null,
   "metadata": {},
   "outputs": [],
   "source": [
    "# machine                 : Currently executing machine instance\n",
    "# state                   : Currently executing state instance\n",
    "# request_data            : Original trigger data\n",
    "# context                 : Machine stored context\n",
    "# prev_state_response     : Previous executed state business logic response\n",
    "# current_state_response  : Currently executed state business logic response\n",
    "# return\n",
    "#     {\"success\": True, \"goto\": \"STATE_CODE\"}\n",
    "#     {\"success\": False, \"error\": {\"code\": \"...\", \"detail\": \"...\"}}\n",
    "def state_handler(machine, state, request_data, context, prev_state_response, current_state_response):\n",
    "    # do workflow here\n",
    "    return {\"success\": True, \"goto\": \"END\"}\n"
   ]
  },
  {
   "cell_type": "markdown",
   "metadata": {},
   "source": [
    "#### 7E - İş Mantığı"
   ]
  },
  {
   "cell_type": "code",
   "execution_count": null,
   "metadata": {},
   "outputs": [
    {
     "data": {
      "text/plain": [
       "'http://thor-stage.edas1.com/host/v1//contract/create'"
      ]
     },
     "metadata": {},
     "output_type": "display_data"
    }
   ],
   "source": [
    "\"\"\"http://thor-stage.edas1.com/host/v1//contract/create\"\"\""
   ]
  }
 ],
 "metadata": {
  "kernelspec": {
   "display_name": "Python 3",
   "language": "python",
   "name": "python3"
  },
  "language_info": {
   "codemirror_mode": {
    "name": "ipython",
    "version": 3
   },
   "file_extension": ".py",
   "mimetype": "text/x-python",
   "name": "python",
   "nbconvert_exporter": "python",
   "pygments_lexer": "ipython3",
   "version": "3.12.3"
  }
 },
 "nbformat": 4,
 "nbformat_minor": 2
}
